{
 "cells": [
  {
   "cell_type": "code",
   "execution_count": 2,
   "id": "438aef6e",
   "metadata": {},
   "outputs": [
    {
     "data": {
      "text/plain": [
       "cash                   500\n",
       "MasterCard-Eurocard    194\n",
       "VISA                   172\n",
       "American_Express       153\n",
       "bank_debit_cards       130\n",
       "Visa                    83\n",
       "Diners_Club             42\n",
       "Discover                11\n",
       "checks                  10\n",
       "Carte_Blanche            7\n",
       "gift_certificates        7\n",
       "Japan_Credit_Bureau      5\n",
       "Name: Rpayment, dtype: int64"
      ]
     },
     "execution_count": 2,
     "metadata": {},
     "output_type": "execute_result"
    }
   ],
   "source": [
    "#1\n",
    "#What are all of the supported payment methods for each place?\n",
    "\n",
    "import pandas as pd\n",
    "supp_payments = pd.read_csv('chefmozaccepts.csv')\n",
    "supp_payments.Rpayment.value_counts()"
   ]
  },
  {
   "cell_type": "code",
   "execution_count": 3,
   "id": "ededa11c",
   "metadata": {},
   "outputs": [
    {
     "data": {
      "text/plain": [
       "none                 348\n",
       "yes                  174\n",
       "public               102\n",
       "street                32\n",
       "fee                   22\n",
       "valet parking         21\n",
       "validated parking      3\n",
       "Name: parking_lot, dtype: int64"
      ]
     },
     "execution_count": 3,
     "metadata": {},
     "output_type": "execute_result"
    }
   ],
   "source": [
    "#2 What are the parking statuses for each place?\n",
    "\n",
    "parking_options = pd.read_csv('chefmozparking.csv')\n",
    "parking_options.parking_lot.value_counts()\n"
   ]
  },
  {
   "cell_type": "code",
   "execution_count": 4,
   "id": "415dda58",
   "metadata": {},
   "outputs": [
    {
     "data": {
      "text/plain": [
       "Mexican                 239\n",
       "International            62\n",
       "American                 59\n",
       "Dutch-Belgian            55\n",
       "Italian                  42\n",
       "Greek                    33\n",
       "Bar                      32\n",
       "French                   31\n",
       "Cafe-Coffee_Shop         27\n",
       "Pizzeria                 25\n",
       "Bar_Pub_Brewery          24\n",
       "Cafeteria                23\n",
       "Chinese                  21\n",
       "Fast_Food                20\n",
       "Seafood                  18\n",
       "Japanese                 17\n",
       "German                   14\n",
       "Family                   14\n",
       "Mediterranean            13\n",
       "Burgers                  13\n",
       "Vegetarian               10\n",
       "Deli-Sandwiches           9\n",
       "Contemporary              9\n",
       "Steaks                    8\n",
       "Latin_American            7\n",
       "Hot_Dogs                  7\n",
       "Asian                     7\n",
       "Bakery                    6\n",
       "Juice                     6\n",
       "Sushi                     6\n",
       "Polish                    5\n",
       "Armenian                  5\n",
       "Continental-European      4\n",
       "African                   3\n",
       "Dessert-Ice_Cream         3\n",
       "Southwestern              3\n",
       "Diner                     3\n",
       "Barbecue                  3\n",
       "Spanish                   3\n",
       "Regional                  3\n",
       "Breakfast-Brunch          3\n",
       "Vietnamese                2\n",
       "Game                      2\n",
       "Eastern_European          2\n",
       "California                1\n",
       "Bagels                    1\n",
       "Turkish                   1\n",
       "Organic-Healthy           1\n",
       "Southern                  1\n",
       "Caribbean                 1\n",
       "Soup                      1\n",
       "Ethiopian                 1\n",
       "Persian                   1\n",
       "Thai                      1\n",
       "Korean                    1\n",
       "Afghan                    1\n",
       "Brazilian                 1\n",
       "Mongolian                 1\n",
       "Fine_Dining               1\n",
       "Name: Rcuisine, dtype: int64"
      ]
     },
     "execution_count": 4,
     "metadata": {},
     "output_type": "execute_result"
    }
   ],
   "source": [
    "#3 What are the cuisines for each place?\n",
    "\n",
    "cuisine = pd.read_csv('chefmozcuisine.csv')\n",
    "cuisine.Rcuisine.value_counts()"
   ]
  },
  {
   "cell_type": "code",
   "execution_count": 5,
   "id": "16389a4a",
   "metadata": {},
   "outputs": [
    {
     "data": {
      "text/html": [
       "<div>\n",
       "<style scoped>\n",
       "    .dataframe tbody tr th:only-of-type {\n",
       "        vertical-align: middle;\n",
       "    }\n",
       "\n",
       "    .dataframe tbody tr th {\n",
       "        vertical-align: top;\n",
       "    }\n",
       "\n",
       "    .dataframe thead th {\n",
       "        text-align: right;\n",
       "    }\n",
       "</style>\n",
       "<table border=\"1\" class=\"dataframe\">\n",
       "  <thead>\n",
       "    <tr style=\"text-align: right;\">\n",
       "      <th></th>\n",
       "      <th>rating</th>\n",
       "      <th>food_rating</th>\n",
       "      <th>service_rating</th>\n",
       "    </tr>\n",
       "  </thead>\n",
       "  <tbody>\n",
       "    <tr>\n",
       "      <th>count</th>\n",
       "      <td>1161.000000</td>\n",
       "      <td>1161.000000</td>\n",
       "      <td>1161.000000</td>\n",
       "    </tr>\n",
       "    <tr>\n",
       "      <th>mean</th>\n",
       "      <td>1.199828</td>\n",
       "      <td>1.215332</td>\n",
       "      <td>1.090439</td>\n",
       "    </tr>\n",
       "    <tr>\n",
       "      <th>std</th>\n",
       "      <td>0.773282</td>\n",
       "      <td>0.792294</td>\n",
       "      <td>0.790844</td>\n",
       "    </tr>\n",
       "    <tr>\n",
       "      <th>min</th>\n",
       "      <td>0.000000</td>\n",
       "      <td>0.000000</td>\n",
       "      <td>0.000000</td>\n",
       "    </tr>\n",
       "    <tr>\n",
       "      <th>25%</th>\n",
       "      <td>1.000000</td>\n",
       "      <td>1.000000</td>\n",
       "      <td>0.000000</td>\n",
       "    </tr>\n",
       "    <tr>\n",
       "      <th>50%</th>\n",
       "      <td>1.000000</td>\n",
       "      <td>1.000000</td>\n",
       "      <td>1.000000</td>\n",
       "    </tr>\n",
       "    <tr>\n",
       "      <th>75%</th>\n",
       "      <td>2.000000</td>\n",
       "      <td>2.000000</td>\n",
       "      <td>2.000000</td>\n",
       "    </tr>\n",
       "    <tr>\n",
       "      <th>max</th>\n",
       "      <td>2.000000</td>\n",
       "      <td>2.000000</td>\n",
       "      <td>2.000000</td>\n",
       "    </tr>\n",
       "  </tbody>\n",
       "</table>\n",
       "</div>"
      ],
      "text/plain": [
       "            rating  food_rating  service_rating\n",
       "count  1161.000000  1161.000000     1161.000000\n",
       "mean      1.199828     1.215332        1.090439\n",
       "std       0.773282     0.792294        0.790844\n",
       "min       0.000000     0.000000        0.000000\n",
       "25%       1.000000     1.000000        0.000000\n",
       "50%       1.000000     1.000000        1.000000\n",
       "75%       2.000000     2.000000        2.000000\n",
       "max       2.000000     2.000000        2.000000"
      ]
     },
     "execution_count": 5,
     "metadata": {},
     "output_type": "execute_result"
    }
   ],
   "source": [
    "#4 What is the average rating, average food rating, average service rating, minimum food rating, minimum service rating, \n",
    "#and maximum service rating for the restaurants by cuisine?\n",
    "\n",
    "\n",
    "r_ratings = pd.read_csv('rating_final.csv')\n",
    "r_ratings = r_ratings[['rating','food_rating','service_rating']]\n",
    "r_ratings.describe()"
   ]
  },
  {
   "cell_type": "code",
   "execution_count": 13,
   "id": "2caa98d5",
   "metadata": {},
   "outputs": [
    {
     "data": {
      "text/plain": [
       "cash                   38\n",
       "VISA                    8\n",
       "bank_debit_cards        8\n",
       "MasterCard-Eurocard     2\n",
       "Name: Upayment, dtype: int64"
      ]
     },
     "execution_count": 13,
     "metadata": {},
     "output_type": "execute_result"
    }
   ],
   "source": [
    "#5 What are the payment methods preferred by social drinkers?\n",
    "\n",
    "social_drinkers = pd.read_csv('userprofile.csv')\n",
    "user_payment = pd.read_csv('userpayment.csv')\n",
    "sdup = user_payment.merge(social_drinkers,how='inner',on='userID')\n",
    "sdup = sdup[['userID','drink_level','Upayment']]\n",
    "sdup = sdup[sdup.drink_level == 'social drinker']\n",
    "sdup.Upayment.value_counts()"
   ]
  },
  {
   "cell_type": "code",
   "execution_count": 14,
   "id": "53c5dbf3",
   "metadata": {},
   "outputs": [
    {
     "data": {
      "text/plain": [
       "Mexican             12\n",
       "Contemporary         3\n",
       "American             2\n",
       "Cafe-Coffee_Shop     2\n",
       "Japanese             1\n",
       "Italian              1\n",
       "Diner                1\n",
       "Hot_Dogs             1\n",
       "Australian           1\n",
       "Bar                  1\n",
       "Cafeteria            1\n",
       "Family               1\n",
       "Latin_American       1\n",
       "Burgers              1\n",
       "Afghan               1\n",
       "Doughnuts            1\n",
       "Chinese              1\n",
       "Portuguese           1\n",
       "Sushi                1\n",
       "Regional             1\n",
       "Polish               1\n",
       "Polynesian           1\n",
       "Barbecue             1\n",
       "Moroccan             1\n",
       "Lebanese             1\n",
       "Eastern_European     1\n",
       "Indian-Pakistani     1\n",
       "Fusion               1\n",
       "Pizzeria             1\n",
       "Name: Rcuisine, dtype: int64"
      ]
     },
     "execution_count": 14,
     "metadata": {},
     "output_type": "execute_result"
    }
   ],
   "source": [
    "#6 What are the cuisines preferred by eco-friendly users?\n",
    "\n",
    "ecof = pd.read_csv('userprofile.csv')\n",
    "user_cuisine = pd.read_csv('usercuisine.csv')\n",
    "ecoc = user_cuisine.merge(ecof,how='inner',on=\"userID\")\n",
    "ecoc = ecoc[['userID','Rcuisine','interest']]\n",
    "ecoc = ecoc[ecoc.interest == 'eco-friendly']\n",
    "ecoc.Rcuisine.value_counts()"
   ]
  },
  {
   "cell_type": "code",
   "execution_count": 16,
   "id": "21d839dc",
   "metadata": {},
   "outputs": [
    {
     "data": {
      "text/plain": [
       "cash                   109\n",
       "VISA                    12\n",
       "bank_debit_cards        10\n",
       "American_Express         1\n",
       "MasterCard-Eurocard      1\n",
       "Name: Upayment, dtype: int64"
      ]
     },
     "execution_count": 16,
     "metadata": {},
     "output_type": "execute_result"
    }
   ],
   "source": [
    "#7 What payment methods are preferred by students?\n",
    "\n",
    "\n",
    "students = pd.read_csv('userprofile.csv')\n",
    "user_payment = pd.read_csv('userpayment.csv')\n",
    "sdup = user_payment.merge(students,how='inner',on='userID')\n",
    "sdup = sdup[['userID','activity','Upayment']]\n",
    "sdup = sdup[sdup.activity == 'student']\n",
    "sdup.Upayment.value_counts()"
   ]
  },
  {
   "cell_type": "code",
   "execution_count": 23,
   "id": "589e538d",
   "metadata": {},
   "outputs": [
    {
     "data": {
      "text/plain": [
       "Mexican             62\n",
       "American             8\n",
       "Family               7\n",
       "Cafe-Coffee_Shop     7\n",
       "Cafeteria            7\n",
       "                    ..\n",
       "German               1\n",
       "Persian              1\n",
       "Ethiopian            1\n",
       "Romanian             1\n",
       "Southern             1\n",
       "Name: Rcuisine, Length: 103, dtype: int64"
      ]
     },
     "execution_count": 23,
     "metadata": {},
     "output_type": "execute_result"
    }
   ],
   "source": [
    "#8 What cuisines are preferred by Catholic students?\n",
    "\n",
    "students = pd.read_csv('userprofile.csv')\n",
    "user_cuisine = pd.read_csv('usercuisine.csv')\n",
    "suc = user_cuisine.merge(students,how='inner',on='userID')\n",
    "suc = suc[['userID','activity','religion','Rcuisine']]\n",
    "suc = suc[suc.activity == 'student']\n",
    "suc = suc[suc.religion =='Catholic']\n",
    "suc.Rcuisine.value_counts()"
   ]
  },
  {
   "cell_type": "code",
   "execution_count": null,
   "id": "9326e6dc",
   "metadata": {},
   "outputs": [],
   "source": []
  }
 ],
 "metadata": {
  "kernelspec": {
   "display_name": "Python 3 (ipykernel)",
   "language": "python",
   "name": "python3"
  },
  "language_info": {
   "codemirror_mode": {
    "name": "ipython",
    "version": 3
   },
   "file_extension": ".py",
   "mimetype": "text/x-python",
   "name": "python",
   "nbconvert_exporter": "python",
   "pygments_lexer": "ipython3",
   "version": "3.9.7"
  }
 },
 "nbformat": 4,
 "nbformat_minor": 5
}
