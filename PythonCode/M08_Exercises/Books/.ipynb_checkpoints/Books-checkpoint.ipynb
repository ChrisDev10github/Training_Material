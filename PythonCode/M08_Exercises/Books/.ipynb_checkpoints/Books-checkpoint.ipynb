{
 "cells": [
  {
   "cell_type": "code",
   "execution_count": 5,
   "id": "98450a60",
   "metadata": {},
   "outputs": [],
   "source": [
    "import pandas as pd\n",
    "books = pd.read_csv('books.csv')"
   ]
  },
  {
   "cell_type": "code",
   "execution_count": 6,
   "id": "d7fb8e65",
   "metadata": {},
   "outputs": [
    {
     "name": "stdout",
     "output_type": "stream",
     "text": [
      "<class 'pandas.core.frame.DataFrame'>\n",
      "RangeIndex: 10000 entries, 0 to 9999\n",
      "Data columns (total 23 columns):\n",
      " #   Column                     Non-Null Count  Dtype  \n",
      "---  ------                     --------------  -----  \n",
      " 0   id                         10000 non-null  int64  \n",
      " 1   book_id                    10000 non-null  int64  \n",
      " 2   best_book_id               10000 non-null  int64  \n",
      " 3   work_id                    10000 non-null  int64  \n",
      " 4   books_count                10000 non-null  int64  \n",
      " 5   isbn                       9300 non-null   object \n",
      " 6   isbn13                     9415 non-null   float64\n",
      " 7   authors                    10000 non-null  object \n",
      " 8   original_publication_year  9979 non-null   float64\n",
      " 9   original_title             9415 non-null   object \n",
      " 10  title                      10000 non-null  object \n",
      " 11  language_code              8916 non-null   object \n",
      " 12  average_rating             10000 non-null  float64\n",
      " 13  ratings_count              10000 non-null  int64  \n",
      " 14  work_ratings_count         10000 non-null  int64  \n",
      " 15  work_text_reviews_count    10000 non-null  int64  \n",
      " 16  ratings_1                  10000 non-null  int64  \n",
      " 17  ratings_2                  10000 non-null  int64  \n",
      " 18  ratings_3                  10000 non-null  int64  \n",
      " 19  ratings_4                  10000 non-null  int64  \n",
      " 20  ratings_5                  10000 non-null  int64  \n",
      " 21  image_url                  10000 non-null  object \n",
      " 22  small_image_url            10000 non-null  object \n",
      "dtypes: float64(3), int64(13), object(7)\n",
      "memory usage: 1.8+ MB\n"
     ]
    }
   ],
   "source": [
    "books.info()"
   ]
  },
  {
   "cell_type": "code",
   "execution_count": 7,
   "id": "72899bcf",
   "metadata": {},
   "outputs": [],
   "source": [
    "books['isbn'].fillna('NA',inplace=True)"
   ]
  },
  {
   "cell_type": "code",
   "execution_count": 8,
   "id": "e3e48c05",
   "metadata": {},
   "outputs": [
    {
     "data": {
      "text/plain": [
       "0"
      ]
     },
     "execution_count": 8,
     "metadata": {},
     "output_type": "execute_result"
    }
   ],
   "source": [
    "len(books[books.isbn.isna()])"
   ]
  },
  {
   "cell_type": "code",
   "execution_count": 9,
   "id": "8d9144f5",
   "metadata": {},
   "outputs": [],
   "source": [
    "books['isbn13'].fillna('NA',inplace=True)"
   ]
  },
  {
   "cell_type": "code",
   "execution_count": 10,
   "id": "f9ea6abf",
   "metadata": {},
   "outputs": [
    {
     "data": {
      "text/plain": [
       "0"
      ]
     },
     "execution_count": 10,
     "metadata": {},
     "output_type": "execute_result"
    }
   ],
   "source": [
    "len(books[books.isbn13.isna()])"
   ]
  },
  {
   "cell_type": "code",
   "execution_count": 11,
   "id": "a2d7a51c",
   "metadata": {},
   "outputs": [],
   "source": [
    "books['language_code'].fillna('NA',inplace=True)"
   ]
  },
  {
   "cell_type": "code",
   "execution_count": 12,
   "id": "61479f38",
   "metadata": {},
   "outputs": [
    {
     "data": {
      "text/plain": [
       "0"
      ]
     },
     "execution_count": 12,
     "metadata": {},
     "output_type": "execute_result"
    }
   ],
   "source": [
    "len(books[books.language_code.isna()])"
   ]
  },
  {
   "cell_type": "code",
   "execution_count": 14,
   "id": "0cc7ad05",
   "metadata": {},
   "outputs": [
    {
     "data": {
      "text/plain": [
       "0       978-0-43902-348-0\n",
       "1       978-0-43955-493-0\n",
       "2       978-0-31601-584-0\n",
       "3       978-0-06112-008-0\n",
       "4       978-0-74327-356-0\n",
       "              ...        \n",
       "9994    978-1-41652-373-0\n",
       "9995    978-0-44101-946-0\n",
       "9996    978-0-67973-371-0\n",
       "9997    978-0-39330-763-0\n",
       "9998    978-0-06171-153-0\n",
       "Name: isbn13, Length: 8225, dtype: object"
      ]
     },
     "execution_count": 14,
     "metadata": {},
     "output_type": "execute_result"
    }
   ],
   "source": [
    "books = pd.read_csv('books.csv')\n",
    "\n",
    "books = books.dropna(subset = ['isbn', 'isbn13', 'language_code','original_publication_year'])\n",
    "\n",
    "books['isbn13'] = books['isbn13'].astype('int64').astype('str')\n",
    "\n",
    "\n",
    "\n",
    "def func(string):\n",
    "\n",
    "    string = '{}-{}-{}-{}-{}'.format(string[0:3],string[3:4],string[4:9],string[9:12],string[12:])\n",
    "\n",
    "    return string\n",
    "\n",
    "\n",
    "\n",
    "books['isbn13'] = books['isbn13'].apply(func)\n",
    "\n",
    "\n",
    "\n",
    "books['isbn13']"
   ]
  },
  {
   "cell_type": "code",
   "execution_count": 15,
   "id": "d4d0156b",
   "metadata": {},
   "outputs": [
    {
     "name": "stdout",
     "output_type": "stream",
     "text": [
      "<class 'pandas.core.frame.DataFrame'>\n",
      "Int64Index: 8225 entries, 0 to 9998\n",
      "Data columns (total 23 columns):\n",
      " #   Column                     Non-Null Count  Dtype  \n",
      "---  ------                     --------------  -----  \n",
      " 0   id                         8225 non-null   int64  \n",
      " 1   book_id                    8225 non-null   int64  \n",
      " 2   best_book_id               8225 non-null   int64  \n",
      " 3   work_id                    8225 non-null   int64  \n",
      " 4   books_count                8225 non-null   int64  \n",
      " 5   isbn                       8225 non-null   object \n",
      " 6   isbn13                     8225 non-null   object \n",
      " 7   authors                    8225 non-null   object \n",
      " 8   original_publication_year  8225 non-null   float64\n",
      " 9   original_title             7860 non-null   object \n",
      " 10  title                      8225 non-null   object \n",
      " 11  language_code              8225 non-null   object \n",
      " 12  average_rating             8225 non-null   float64\n",
      " 13  ratings_count              8225 non-null   int64  \n",
      " 14  work_ratings_count         8225 non-null   int64  \n",
      " 15  work_text_reviews_count    8225 non-null   int64  \n",
      " 16  ratings_1                  8225 non-null   int64  \n",
      " 17  ratings_2                  8225 non-null   int64  \n",
      " 18  ratings_3                  8225 non-null   int64  \n",
      " 19  ratings_4                  8225 non-null   int64  \n",
      " 20  ratings_5                  8225 non-null   int64  \n",
      " 21  image_url                  8225 non-null   object \n",
      " 22  small_image_url            8225 non-null   object \n",
      "dtypes: float64(2), int64(13), object(8)\n",
      "memory usage: 1.5+ MB\n"
     ]
    }
   ],
   "source": [
    "books.info()"
   ]
  },
  {
   "cell_type": "code",
   "execution_count": 18,
   "id": "f05d0879",
   "metadata": {},
   "outputs": [],
   "source": [
    "books.insert(23, 'different_titles', 0)"
   ]
  },
  {
   "cell_type": "code",
   "execution_count": 19,
   "id": "6ff72ba9",
   "metadata": {},
   "outputs": [
    {
     "name": "stdout",
     "output_type": "stream",
     "text": [
      "<class 'pandas.core.frame.DataFrame'>\n",
      "Int64Index: 8225 entries, 0 to 9998\n",
      "Data columns (total 25 columns):\n",
      " #   Column                     Non-Null Count  Dtype  \n",
      "---  ------                     --------------  -----  \n",
      " 0   id                         8225 non-null   int64  \n",
      " 1   book_id                    8225 non-null   int64  \n",
      " 2   best_book_id               8225 non-null   int64  \n",
      " 3   work_id                    8225 non-null   int64  \n",
      " 4   books_count                8225 non-null   int64  \n",
      " 5   isbn                       8225 non-null   object \n",
      " 6   isbn13                     8225 non-null   object \n",
      " 7   authors                    8225 non-null   object \n",
      " 8   original_publication_year  8225 non-null   float64\n",
      " 9   original_title             7860 non-null   object \n",
      " 10  title                      8225 non-null   object \n",
      " 11  language_code              8225 non-null   object \n",
      " 12  average_rating             8225 non-null   float64\n",
      " 13  ratings_count              8225 non-null   int64  \n",
      " 14  work_ratings_count         8225 non-null   int64  \n",
      " 15  work_text_reviews_count    8225 non-null   int64  \n",
      " 16  ratings_1                  8225 non-null   int64  \n",
      " 17  ratings_2                  8225 non-null   int64  \n",
      " 18  ratings_3                  8225 non-null   int64  \n",
      " 19  ratings_4                  8225 non-null   int64  \n",
      " 20  ratings_5                  8225 non-null   int64  \n",
      " 21  image_url                  8225 non-null   object \n",
      " 22  small_image_url            8225 non-null   object \n",
      " 23  different_titles           8225 non-null   int64  \n",
      " 24  different titles           8225 non-null   int64  \n",
      "dtypes: float64(2), int64(15), object(8)\n",
      "memory usage: 1.6+ MB\n"
     ]
    }
   ],
   "source": [
    "books.info()"
   ]
  },
  {
   "cell_type": "code",
   "execution_count": 20,
   "id": "3dc8aa7e",
   "metadata": {},
   "outputs": [
    {
     "ename": "KeyError",
     "evalue": "'Different Titles'",
     "output_type": "error",
     "traceback": [
      "\u001b[1;31m---------------------------------------------------------------------------\u001b[0m",
      "\u001b[1;31mKeyError\u001b[0m                                  Traceback (most recent call last)",
      "\u001b[1;32m~\\anaconda3\\lib\\site-packages\\pandas\\core\\indexes\\base.py\u001b[0m in \u001b[0;36mget_loc\u001b[1;34m(self, key, method, tolerance)\u001b[0m\n\u001b[0;32m   3360\u001b[0m             \u001b[1;32mtry\u001b[0m\u001b[1;33m:\u001b[0m\u001b[1;33m\u001b[0m\u001b[1;33m\u001b[0m\u001b[0m\n\u001b[1;32m-> 3361\u001b[1;33m                 \u001b[1;32mreturn\u001b[0m \u001b[0mself\u001b[0m\u001b[1;33m.\u001b[0m\u001b[0m_engine\u001b[0m\u001b[1;33m.\u001b[0m\u001b[0mget_loc\u001b[0m\u001b[1;33m(\u001b[0m\u001b[0mcasted_key\u001b[0m\u001b[1;33m)\u001b[0m\u001b[1;33m\u001b[0m\u001b[1;33m\u001b[0m\u001b[0m\n\u001b[0m\u001b[0;32m   3362\u001b[0m             \u001b[1;32mexcept\u001b[0m \u001b[0mKeyError\u001b[0m \u001b[1;32mas\u001b[0m \u001b[0merr\u001b[0m\u001b[1;33m:\u001b[0m\u001b[1;33m\u001b[0m\u001b[1;33m\u001b[0m\u001b[0m\n",
      "\u001b[1;32m~\\anaconda3\\lib\\site-packages\\pandas\\_libs\\index.pyx\u001b[0m in \u001b[0;36mpandas._libs.index.IndexEngine.get_loc\u001b[1;34m()\u001b[0m\n",
      "\u001b[1;32m~\\anaconda3\\lib\\site-packages\\pandas\\_libs\\index.pyx\u001b[0m in \u001b[0;36mpandas._libs.index.IndexEngine.get_loc\u001b[1;34m()\u001b[0m\n",
      "\u001b[1;32mpandas\\_libs\\hashtable_class_helper.pxi\u001b[0m in \u001b[0;36mpandas._libs.hashtable.PyObjectHashTable.get_item\u001b[1;34m()\u001b[0m\n",
      "\u001b[1;32mpandas\\_libs\\hashtable_class_helper.pxi\u001b[0m in \u001b[0;36mpandas._libs.hashtable.PyObjectHashTable.get_item\u001b[1;34m()\u001b[0m\n",
      "\u001b[1;31mKeyError\u001b[0m: 'Different Titles'",
      "\nThe above exception was the direct cause of the following exception:\n",
      "\u001b[1;31mKeyError\u001b[0m                                  Traceback (most recent call last)",
      "\u001b[1;32m~\\AppData\\Local\\Temp/ipykernel_14616/1386925958.py\u001b[0m in \u001b[0;36m<module>\u001b[1;34m\u001b[0m\n\u001b[1;32m----> 1\u001b[1;33m \u001b[0mbooks\u001b[0m\u001b[1;33m.\u001b[0m\u001b[0mloc\u001b[0m\u001b[1;33m[\u001b[0m\u001b[0mbooks\u001b[0m\u001b[1;33m[\u001b[0m\u001b[1;34m'title'\u001b[0m\u001b[1;33m]\u001b[0m \u001b[1;33m!=\u001b[0m \u001b[0mbooks\u001b[0m\u001b[1;33m[\u001b[0m\u001b[1;34m'Different Titles'\u001b[0m\u001b[1;33m]\u001b[0m\u001b[1;33m,\u001b[0m \u001b[1;34m'DifferentTitles'\u001b[0m\u001b[1;33m]\u001b[0m \u001b[1;33m=\u001b[0m \u001b[1;34m'1'\u001b[0m\u001b[1;33m\u001b[0m\u001b[1;33m\u001b[0m\u001b[0m\n\u001b[0m\u001b[0;32m      2\u001b[0m \u001b[0mbooks\u001b[0m\u001b[1;33m.\u001b[0m\u001b[0mloc\u001b[0m\u001b[1;33m[\u001b[0m\u001b[0mbooks\u001b[0m\u001b[1;33m[\u001b[0m\u001b[1;34m'title'\u001b[0m\u001b[1;33m]\u001b[0m \u001b[1;33m==\u001b[0m \u001b[0mbooks\u001b[0m\u001b[1;33m[\u001b[0m\u001b[1;34m'Different Titles'\u001b[0m\u001b[1;33m]\u001b[0m\u001b[1;33m,\u001b[0m \u001b[1;34m'SameTitles'\u001b[0m\u001b[1;33m]\u001b[0m \u001b[1;33m=\u001b[0m \u001b[1;34m'0'\u001b[0m\u001b[1;33m\u001b[0m\u001b[1;33m\u001b[0m\u001b[0m\n",
      "\u001b[1;32m~\\anaconda3\\lib\\site-packages\\pandas\\core\\frame.py\u001b[0m in \u001b[0;36m__getitem__\u001b[1;34m(self, key)\u001b[0m\n\u001b[0;32m   3456\u001b[0m             \u001b[1;32mif\u001b[0m \u001b[0mself\u001b[0m\u001b[1;33m.\u001b[0m\u001b[0mcolumns\u001b[0m\u001b[1;33m.\u001b[0m\u001b[0mnlevels\u001b[0m \u001b[1;33m>\u001b[0m \u001b[1;36m1\u001b[0m\u001b[1;33m:\u001b[0m\u001b[1;33m\u001b[0m\u001b[1;33m\u001b[0m\u001b[0m\n\u001b[0;32m   3457\u001b[0m                 \u001b[1;32mreturn\u001b[0m \u001b[0mself\u001b[0m\u001b[1;33m.\u001b[0m\u001b[0m_getitem_multilevel\u001b[0m\u001b[1;33m(\u001b[0m\u001b[0mkey\u001b[0m\u001b[1;33m)\u001b[0m\u001b[1;33m\u001b[0m\u001b[1;33m\u001b[0m\u001b[0m\n\u001b[1;32m-> 3458\u001b[1;33m             \u001b[0mindexer\u001b[0m \u001b[1;33m=\u001b[0m \u001b[0mself\u001b[0m\u001b[1;33m.\u001b[0m\u001b[0mcolumns\u001b[0m\u001b[1;33m.\u001b[0m\u001b[0mget_loc\u001b[0m\u001b[1;33m(\u001b[0m\u001b[0mkey\u001b[0m\u001b[1;33m)\u001b[0m\u001b[1;33m\u001b[0m\u001b[1;33m\u001b[0m\u001b[0m\n\u001b[0m\u001b[0;32m   3459\u001b[0m             \u001b[1;32mif\u001b[0m \u001b[0mis_integer\u001b[0m\u001b[1;33m(\u001b[0m\u001b[0mindexer\u001b[0m\u001b[1;33m)\u001b[0m\u001b[1;33m:\u001b[0m\u001b[1;33m\u001b[0m\u001b[1;33m\u001b[0m\u001b[0m\n\u001b[0;32m   3460\u001b[0m                 \u001b[0mindexer\u001b[0m \u001b[1;33m=\u001b[0m \u001b[1;33m[\u001b[0m\u001b[0mindexer\u001b[0m\u001b[1;33m]\u001b[0m\u001b[1;33m\u001b[0m\u001b[1;33m\u001b[0m\u001b[0m\n",
      "\u001b[1;32m~\\anaconda3\\lib\\site-packages\\pandas\\core\\indexes\\base.py\u001b[0m in \u001b[0;36mget_loc\u001b[1;34m(self, key, method, tolerance)\u001b[0m\n\u001b[0;32m   3361\u001b[0m                 \u001b[1;32mreturn\u001b[0m \u001b[0mself\u001b[0m\u001b[1;33m.\u001b[0m\u001b[0m_engine\u001b[0m\u001b[1;33m.\u001b[0m\u001b[0mget_loc\u001b[0m\u001b[1;33m(\u001b[0m\u001b[0mcasted_key\u001b[0m\u001b[1;33m)\u001b[0m\u001b[1;33m\u001b[0m\u001b[1;33m\u001b[0m\u001b[0m\n\u001b[0;32m   3362\u001b[0m             \u001b[1;32mexcept\u001b[0m \u001b[0mKeyError\u001b[0m \u001b[1;32mas\u001b[0m \u001b[0merr\u001b[0m\u001b[1;33m:\u001b[0m\u001b[1;33m\u001b[0m\u001b[1;33m\u001b[0m\u001b[0m\n\u001b[1;32m-> 3363\u001b[1;33m                 \u001b[1;32mraise\u001b[0m \u001b[0mKeyError\u001b[0m\u001b[1;33m(\u001b[0m\u001b[0mkey\u001b[0m\u001b[1;33m)\u001b[0m \u001b[1;32mfrom\u001b[0m \u001b[0merr\u001b[0m\u001b[1;33m\u001b[0m\u001b[1;33m\u001b[0m\u001b[0m\n\u001b[0m\u001b[0;32m   3364\u001b[0m \u001b[1;33m\u001b[0m\u001b[0m\n\u001b[0;32m   3365\u001b[0m         \u001b[1;32mif\u001b[0m \u001b[0mis_scalar\u001b[0m\u001b[1;33m(\u001b[0m\u001b[0mkey\u001b[0m\u001b[1;33m)\u001b[0m \u001b[1;32mand\u001b[0m \u001b[0misna\u001b[0m\u001b[1;33m(\u001b[0m\u001b[0mkey\u001b[0m\u001b[1;33m)\u001b[0m \u001b[1;32mand\u001b[0m \u001b[1;32mnot\u001b[0m \u001b[0mself\u001b[0m\u001b[1;33m.\u001b[0m\u001b[0mhasnans\u001b[0m\u001b[1;33m:\u001b[0m\u001b[1;33m\u001b[0m\u001b[1;33m\u001b[0m\u001b[0m\n",
      "\u001b[1;31mKeyError\u001b[0m: 'Different Titles'"
     ]
    }
   ],
   "source": [
    "books.loc[books['title'] != books['Different Titles'], 'DifferentTitles'] = '1'\n",
    "books.loc[books['title'] == books['Different Titles'], 'SameTitles'] = '0'"
   ]
  },
  {
   "cell_type": "code",
   "execution_count": 21,
   "id": "c08e189d",
   "metadata": {},
   "outputs": [],
   "source": [
    "def authorsplit(string):\n",
    "\n",
    "    string = '{}-{}-{}-{}-{}'.format(string[0:3],string[3:4],string[4:9],string[9:12],string[12:])\n",
    "\n",
    "    return string\n"
   ]
  },
  {
   "cell_type": "code",
   "execution_count": null,
   "id": "e1b3f32c",
   "metadata": {},
   "outputs": [],
   "source": [
    "# drop for remove columns or attributes"
   ]
  }
 ],
 "metadata": {
  "kernelspec": {
   "display_name": "Python 3 (ipykernel)",
   "language": "python",
   "name": "python3"
  },
  "language_info": {
   "codemirror_mode": {
    "name": "ipython",
    "version": 3
   },
   "file_extension": ".py",
   "mimetype": "text/x-python",
   "name": "python",
   "nbconvert_exporter": "python",
   "pygments_lexer": "ipython3",
   "version": "3.9.7"
  }
 },
 "nbformat": 4,
 "nbformat_minor": 5
}
