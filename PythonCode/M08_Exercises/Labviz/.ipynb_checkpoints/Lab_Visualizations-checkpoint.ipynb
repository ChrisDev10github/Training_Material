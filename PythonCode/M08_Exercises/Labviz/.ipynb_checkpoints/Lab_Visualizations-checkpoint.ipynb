{
 "cells": [
  {
   "cell_type": "code",
   "execution_count": 1,
   "id": "20fb90f6",
   "metadata": {},
   "outputs": [],
   "source": [
    "import pandas as pd\n"
   ]
  },
  {
   "cell_type": "code",
   "execution_count": null,
   "id": "126a032b",
   "metadata": {},
   "outputs": [],
   "source": [
    "#melt function helpful for structure \n",
    "#https://towardsdatascience.com/wide-to-long-data-how-and-when-to-use-pandas-melt-stack-and-wide-to-long-7c1e0f462a98"
   ]
  },
  {
   "cell_type": "code",
   "execution_count": 2,
   "id": "88f288c6",
   "metadata": {},
   "outputs": [],
   "source": [
    "primary = pd.read_csv('API_primary.csv')\n",
    "secondary = pd.read_csv('API_secondary.csv')\n",
    "pmetadata = pd.read_csv('Metadata_primary.csv')\n",
    "smetadata = pd.read_csv('Metadata_secondary.csv')"
   ]
  },
  {
   "cell_type": "code",
   "execution_count": 3,
   "id": "e81dcbd2",
   "metadata": {},
   "outputs": [],
   "source": [
    "primarytotal = primary.merge(pmetadata,how='inner',on='Country Code')"
   ]
  },
  {
   "cell_type": "code",
   "execution_count": 4,
   "id": "8b1ecc39",
   "metadata": {},
   "outputs": [],
   "source": [
    "secondarytotal = secondary.merge(smetadata,how='inner',on='Country Code')"
   ]
  },
  {
   "cell_type": "code",
   "execution_count": 5,
   "id": "35585593",
   "metadata": {},
   "outputs": [
    {
     "name": "stdout",
     "output_type": "stream",
     "text": [
      "<class 'pandas.core.frame.DataFrame'>\n",
      "Int64Index: 265 entries, 0 to 264\n",
      "Data columns (total 70 columns):\n",
      " #   Column          Non-Null Count  Dtype  \n",
      "---  ------          --------------  -----  \n",
      " 0   Country Name    265 non-null    object \n",
      " 1   Country Code    265 non-null    object \n",
      " 2   Indicator Name  265 non-null    object \n",
      " 3   Indicator Code  265 non-null    object \n",
      " 4   1960            0 non-null      float64\n",
      " 5   1961            0 non-null      float64\n",
      " 6   1962            0 non-null      float64\n",
      " 7   1963            0 non-null      float64\n",
      " 8   1964            0 non-null      float64\n",
      " 9   1965            0 non-null      float64\n",
      " 10  1966            0 non-null      float64\n",
      " 11  1967            0 non-null      float64\n",
      " 12  1968            0 non-null      float64\n",
      " 13  1969            0 non-null      float64\n",
      " 14  1970            46 non-null     float64\n",
      " 15  1971            100 non-null    float64\n",
      " 16  1972            104 non-null    float64\n",
      " 17  1973            103 non-null    float64\n",
      " 18  1974            110 non-null    float64\n",
      " 19  1975            111 non-null    float64\n",
      " 20  1976            122 non-null    float64\n",
      " 21  1977            122 non-null    float64\n",
      " 22  1978            121 non-null    float64\n",
      " 23  1979            115 non-null    float64\n",
      " 24  1980            117 non-null    float64\n",
      " 25  1981            122 non-null    float64\n",
      " 26  1982            117 non-null    float64\n",
      " 27  1983            126 non-null    float64\n",
      " 28  1984            125 non-null    float64\n",
      " 29  1985            121 non-null    float64\n",
      " 30  1986            116 non-null    float64\n",
      " 31  1987            122 non-null    float64\n",
      " 32  1988            128 non-null    float64\n",
      " 33  1989            119 non-null    float64\n",
      " 34  1990            119 non-null    float64\n",
      " 35  1991            122 non-null    float64\n",
      " 36  1992            131 non-null    float64\n",
      " 37  1993            127 non-null    float64\n",
      " 38  1994            135 non-null    float64\n",
      " 39  1995            126 non-null    float64\n",
      " 40  1996            123 non-null    float64\n",
      " 41  1997            112 non-null    float64\n",
      " 42  1998            110 non-null    float64\n",
      " 43  1999            169 non-null    float64\n",
      " 44  2000            171 non-null    float64\n",
      " 45  2001            171 non-null    float64\n",
      " 46  2002            174 non-null    float64\n",
      " 47  2003            166 non-null    float64\n",
      " 48  2004            175 non-null    float64\n",
      " 49  2005            178 non-null    float64\n",
      " 50  2006            167 non-null    float64\n",
      " 51  2007            173 non-null    float64\n",
      " 52  2008            176 non-null    float64\n",
      " 53  2009            176 non-null    float64\n",
      " 54  2010            175 non-null    float64\n",
      " 55  2011            178 non-null    float64\n",
      " 56  2012            185 non-null    float64\n",
      " 57  2013            187 non-null    float64\n",
      " 58  2014            186 non-null    float64\n",
      " 59  2015            181 non-null    float64\n",
      " 60  2016            184 non-null    float64\n",
      " 61  2017            178 non-null    float64\n",
      " 62  2018            173 non-null    float64\n",
      " 63  2019            173 non-null    float64\n",
      " 64  2020            109 non-null    float64\n",
      " 65  Region          217 non-null    object \n",
      " 66  IncomeGroup     216 non-null    object \n",
      " 67  SpecialNotes    123 non-null    object \n",
      " 68  TableName       265 non-null    object \n",
      " 69  Unnamed: 5      0 non-null      float64\n",
      "dtypes: float64(62), object(8)\n",
      "memory usage: 147.0+ KB\n"
     ]
    }
   ],
   "source": [
    "primarytotal.info()"
   ]
  },
  {
   "cell_type": "code",
   "execution_count": 6,
   "id": "1e969452",
   "metadata": {},
   "outputs": [],
   "source": [
    "primarytotalworld = primarytotal[primarytotal['Country Code'] == 'WLD']"
   ]
  },
  {
   "cell_type": "code",
   "execution_count": 7,
   "id": "5fe6fb5f",
   "metadata": {},
   "outputs": [
    {
     "name": "stdout",
     "output_type": "stream",
     "text": [
      "<class 'pandas.core.frame.DataFrame'>\n",
      "Int64Index: 1 entries, 258 to 258\n",
      "Data columns (total 70 columns):\n",
      " #   Column          Non-Null Count  Dtype  \n",
      "---  ------          --------------  -----  \n",
      " 0   Country Name    1 non-null      object \n",
      " 1   Country Code    1 non-null      object \n",
      " 2   Indicator Name  1 non-null      object \n",
      " 3   Indicator Code  1 non-null      object \n",
      " 4   1960            0 non-null      float64\n",
      " 5   1961            0 non-null      float64\n",
      " 6   1962            0 non-null      float64\n",
      " 7   1963            0 non-null      float64\n",
      " 8   1964            0 non-null      float64\n",
      " 9   1965            0 non-null      float64\n",
      " 10  1966            0 non-null      float64\n",
      " 11  1967            0 non-null      float64\n",
      " 12  1968            0 non-null      float64\n",
      " 13  1969            0 non-null      float64\n",
      " 14  1970            1 non-null      float64\n",
      " 15  1971            1 non-null      float64\n",
      " 16  1972            1 non-null      float64\n",
      " 17  1973            1 non-null      float64\n",
      " 18  1974            1 non-null      float64\n",
      " 19  1975            1 non-null      float64\n",
      " 20  1976            1 non-null      float64\n",
      " 21  1977            1 non-null      float64\n",
      " 22  1978            1 non-null      float64\n",
      " 23  1979            1 non-null      float64\n",
      " 24  1980            1 non-null      float64\n",
      " 25  1981            1 non-null      float64\n",
      " 26  1982            1 non-null      float64\n",
      " 27  1983            1 non-null      float64\n",
      " 28  1984            1 non-null      float64\n",
      " 29  1985            1 non-null      float64\n",
      " 30  1986            1 non-null      float64\n",
      " 31  1987            1 non-null      float64\n",
      " 32  1988            1 non-null      float64\n",
      " 33  1989            1 non-null      float64\n",
      " 34  1990            1 non-null      float64\n",
      " 35  1991            1 non-null      float64\n",
      " 36  1992            1 non-null      float64\n",
      " 37  1993            1 non-null      float64\n",
      " 38  1994            1 non-null      float64\n",
      " 39  1995            1 non-null      float64\n",
      " 40  1996            1 non-null      float64\n",
      " 41  1997            1 non-null      float64\n",
      " 42  1998            1 non-null      float64\n",
      " 43  1999            1 non-null      float64\n",
      " 44  2000            1 non-null      float64\n",
      " 45  2001            1 non-null      float64\n",
      " 46  2002            1 non-null      float64\n",
      " 47  2003            1 non-null      float64\n",
      " 48  2004            1 non-null      float64\n",
      " 49  2005            1 non-null      float64\n",
      " 50  2006            1 non-null      float64\n",
      " 51  2007            1 non-null      float64\n",
      " 52  2008            1 non-null      float64\n",
      " 53  2009            1 non-null      float64\n",
      " 54  2010            1 non-null      float64\n",
      " 55  2011            1 non-null      float64\n",
      " 56  2012            1 non-null      float64\n",
      " 57  2013            1 non-null      float64\n",
      " 58  2014            1 non-null      float64\n",
      " 59  2015            1 non-null      float64\n",
      " 60  2016            1 non-null      float64\n",
      " 61  2017            1 non-null      float64\n",
      " 62  2018            1 non-null      float64\n",
      " 63  2019            1 non-null      float64\n",
      " 64  2020            1 non-null      float64\n",
      " 65  Region          0 non-null      object \n",
      " 66  IncomeGroup     0 non-null      object \n",
      " 67  SpecialNotes    1 non-null      object \n",
      " 68  TableName       1 non-null      object \n",
      " 69  Unnamed: 5      0 non-null      float64\n",
      "dtypes: float64(62), object(8)\n",
      "memory usage: 568.0+ bytes\n"
     ]
    }
   ],
   "source": [
    "primarytotalworld.info()"
   ]
  },
  {
   "cell_type": "code",
   "execution_count": 8,
   "id": "0775860d",
   "metadata": {
    "scrolled": true
   },
   "outputs": [
    {
     "name": "stdout",
     "output_type": "stream",
     "text": [
      "<class 'list'>\n",
      "<class 'list'>\n",
      "<class 'list'>\n",
      "<class 'list'>\n",
      "<class 'list'>\n",
      "<class 'list'>\n",
      "<class 'list'>\n",
      "<class 'list'>\n",
      "<class 'list'>\n",
      "<class 'list'>\n",
      "<class 'list'>\n",
      "<class 'list'>\n",
      "<class 'list'>\n",
      "<class 'list'>\n",
      "<class 'list'>\n",
      "<class 'list'>\n",
      "<class 'list'>\n",
      "<class 'list'>\n",
      "<class 'list'>\n",
      "<class 'list'>\n",
      "<class 'list'>\n",
      "<class 'pandas.core.series.Series'>\n"
     ]
    }
   ],
   "source": [
    "primaryworldtotal = primarytotal[primarytotal['Country Code'] == 'WLD']\n",
    "new_list=[]\n",
    "for i in range(2000,2021):\n",
    "    new_list.append(primaryworldtotal[f'{i}'])\n",
    "    print(list)\n",
    "\n",
    "print(type(new_list[1]))\n",
    "\n",
    "\n"
   ]
  },
  {
   "cell_type": "code",
   "execution_count": 9,
   "id": "ecedde25",
   "metadata": {},
   "outputs": [
    {
     "name": "stdout",
     "output_type": "stream",
     "text": [
      "<class 'types.GenericAlias'>\n"
     ]
    }
   ],
   "source": [
    "print(type(list[1]))"
   ]
  },
  {
   "cell_type": "code",
   "execution_count": 10,
   "id": "20ec0019",
   "metadata": {},
   "outputs": [
    {
     "ename": "ValueError",
     "evalue": "DataFrame constructor not properly called!",
     "output_type": "error",
     "traceback": [
      "\u001b[1;31m---------------------------------------------------------------------------\u001b[0m",
      "\u001b[1;31mValueError\u001b[0m                                Traceback (most recent call last)",
      "\u001b[1;32m~\\AppData\\Local\\Temp/ipykernel_22556/2298155592.py\u001b[0m in \u001b[0;36m<module>\u001b[1;34m\u001b[0m\n\u001b[0;32m      1\u001b[0m \u001b[1;31m#created dataframe for list (change to object dataframe) series to dataframe\u001b[0m\u001b[1;33m\u001b[0m\u001b[1;33m\u001b[0m\u001b[0m\n\u001b[0;32m      2\u001b[0m \u001b[1;33m\u001b[0m\u001b[0m\n\u001b[1;32m----> 3\u001b[1;33m \u001b[0mnewlist\u001b[0m\u001b[1;33m=\u001b[0m\u001b[0mpd\u001b[0m\u001b[1;33m.\u001b[0m\u001b[0mDataFrame\u001b[0m\u001b[1;33m(\u001b[0m\u001b[0mlist\u001b[0m\u001b[1;33m)\u001b[0m\u001b[1;33m\u001b[0m\u001b[1;33m\u001b[0m\u001b[0m\n\u001b[0m\u001b[0;32m      4\u001b[0m \u001b[0mprint\u001b[0m\u001b[1;33m(\u001b[0m\u001b[0mnewlist\u001b[0m\u001b[1;33m)\u001b[0m\u001b[1;33m\u001b[0m\u001b[1;33m\u001b[0m\u001b[0m\n",
      "\u001b[1;32m~\\anaconda3\\lib\\site-packages\\pandas\\core\\frame.py\u001b[0m in \u001b[0;36m__init__\u001b[1;34m(self, data, index, columns, dtype, copy)\u001b[0m\n\u001b[0;32m    728\u001b[0m         \u001b[1;32melse\u001b[0m\u001b[1;33m:\u001b[0m\u001b[1;33m\u001b[0m\u001b[1;33m\u001b[0m\u001b[0m\n\u001b[0;32m    729\u001b[0m             \u001b[1;32mif\u001b[0m \u001b[0mindex\u001b[0m \u001b[1;32mis\u001b[0m \u001b[1;32mNone\u001b[0m \u001b[1;32mor\u001b[0m \u001b[0mcolumns\u001b[0m \u001b[1;32mis\u001b[0m \u001b[1;32mNone\u001b[0m\u001b[1;33m:\u001b[0m\u001b[1;33m\u001b[0m\u001b[1;33m\u001b[0m\u001b[0m\n\u001b[1;32m--> 730\u001b[1;33m                 \u001b[1;32mraise\u001b[0m \u001b[0mValueError\u001b[0m\u001b[1;33m(\u001b[0m\u001b[1;34m\"DataFrame constructor not properly called!\"\u001b[0m\u001b[1;33m)\u001b[0m\u001b[1;33m\u001b[0m\u001b[1;33m\u001b[0m\u001b[0m\n\u001b[0m\u001b[0;32m    731\u001b[0m \u001b[1;33m\u001b[0m\u001b[0m\n\u001b[0;32m    732\u001b[0m             \u001b[1;31m# Argument 1 to \"ensure_index\" has incompatible type \"Collection[Any]\";\u001b[0m\u001b[1;33m\u001b[0m\u001b[1;33m\u001b[0m\u001b[0m\n",
      "\u001b[1;31mValueError\u001b[0m: DataFrame constructor not properly called!"
     ]
    }
   ],
   "source": [
    "#created dataframe for list (change to object dataframe) series to dataframe\n",
    "\n",
    "newlist=pd.DataFrame(list)\n",
    "print(newlist)\n"
   ]
  },
  {
   "cell_type": "code",
   "execution_count": null,
   "id": "af94ac88",
   "metadata": {
    "scrolled": true
   },
   "outputs": [],
   "source": [
    "print(type(newlist))"
   ]
  },
  {
   "cell_type": "code",
   "execution_count": null,
   "id": "5e28ecde",
   "metadata": {},
   "outputs": [],
   "source": [
    "newlist.columns"
   ]
  },
  {
   "cell_type": "code",
   "execution_count": null,
   "id": "a7cbcc7b",
   "metadata": {},
   "outputs": [],
   "source": [
    "#Question 1\n",
    "\n",
    "import matplotlib.pyplot as plt\n",
    "ax=newlist.plot.bar()\n",
    "plt.xlabel('year')\n",
    "plt.ylabel('Primary completion rate (% of relevant age group)')\n",
    "plt.ylim([80,95])     #y limit\n",
    "plt.title('Primary completion rate percentage based on year')\n",
    "\n",
    "ax.get_legend().remove()"
   ]
  },
  {
   "cell_type": "code",
   "execution_count": null,
   "id": "67318c32",
   "metadata": {},
   "outputs": [],
   "source": [
    "#primarytotal is the merge\n",
    "#show different income levels\n",
    "\n",
    "\n",
    "pt50 = primarytotal.groupby('IncomeGroup')['2018'].describe().sort_values('50%')      #.sort_values('median'), sort_values only on dataframes\n",
    "print(type(pt50))\n",
    "ptmedian = pt50['50%']\n",
    "\n",
    "\n"
   ]
  },
  {
   "cell_type": "code",
   "execution_count": null,
   "id": "7c0a8b39",
   "metadata": {},
   "outputs": [],
   "source": [
    "#Question 2\n",
    "axpt=ptmedian.plot.bar()\n",
    "\n",
    "plt.ylabel('median primary completion rate (% of relevant age group)')\n",
    "plt.ylim([50,100])     #y limit\n",
    "plt.title('primary completion rate by income level')\n",
    "\n",
    "#ax.get_legend().remove()"
   ]
  },
  {
   "cell_type": "code",
   "execution_count": null,
   "id": "b48ab6db",
   "metadata": {},
   "outputs": [],
   "source": [
    "st50 = secondarytotal.groupby('IncomeGroup')['2018'].describe().sort_values('50%')      #.sort_values('median'), sort_values only on dataframes\n",
    "#print(st50)\n",
    "print(type(st50))\n",
    "stmedian = st50['50%']\n"
   ]
  },
  {
   "cell_type": "code",
   "execution_count": null,
   "id": "337d93ba",
   "metadata": {},
   "outputs": [],
   "source": [
    "#Question 3\n",
    "axst=stmedian.plot.bar()\n",
    "\n",
    "plt.ylabel('median secondary school enrollment (%net)')\n",
    "plt.ylim([0,100])     #y limit\n",
    "plt.title('Secondary School Enrollment by income level')\n"
   ]
  },
  {
   "cell_type": "code",
   "execution_count": null,
   "id": "6fa53a57",
   "metadata": {},
   "outputs": [],
   "source": [
    "psworldtotal = secondarytotal[secondarytotal['Country Code'] == 'WLD']\n",
    "list2=[]\n",
    "for i in range(2000,2019):\n",
    "    list2.append(psworldtotal[f'{i}'])\n",
    "    print(list2)"
   ]
  },
  {
   "cell_type": "code",
   "execution_count": null,
   "id": "d5462202",
   "metadata": {},
   "outputs": [],
   "source": [
    "newlist2=pd.DataFrame(list2)     #Data frame version for the values by year\n",
    "print(newlist2)\n"
   ]
  },
  {
   "cell_type": "code",
   "execution_count": null,
   "id": "3b743d92",
   "metadata": {},
   "outputs": [],
   "source": [
    "newlist2.index"
   ]
  },
  {
   "cell_type": "code",
   "execution_count": null,
   "id": "fff7558d",
   "metadata": {},
   "outputs": [],
   "source": [
    "newlist2['Year']=newlist2.index    #create newcolumn for the years\n",
    "print(newlist2)"
   ]
  },
  {
   "cell_type": "code",
   "execution_count": null,
   "id": "ca5569af",
   "metadata": {},
   "outputs": [],
   "source": [
    "newlist['Year']=newlist.index\n",
    "print(newlist)"
   ]
  },
  {
   "cell_type": "code",
   "execution_count": null,
   "id": "f0306347",
   "metadata": {},
   "outputs": [],
   "source": [
    "thefinallist = newlist.merge(newlist2,how='inner',on='Year')\n",
    "thefinallist.rename(columns={\"258_x\":\"PrimaryCompletion\",\"258_y\":\"SecondaryEnrollment\"},inplace=True)\n",
    "print(thefinallist)"
   ]
  },
  {
   "cell_type": "code",
   "execution_count": null,
   "id": "2d7d4164",
   "metadata": {},
   "outputs": [],
   "source": [
    "theactualfinalfinallist = thefinallist[['PrimaryCompletion','SecondaryEnrollment']]\n",
    "print(theactualfinalfinallist)"
   ]
  },
  {
   "cell_type": "code",
   "execution_count": null,
   "id": "be0b3ed2",
   "metadata": {},
   "outputs": [],
   "source": [
    "plt.scatter(theactualfinalfinallist['PrimaryCompletion'], theactualfinalfinallist['SecondaryEnrollment'])\n",
    "plt.title('Secondary Enrollment vs Primary Completion')\n",
    "plt.xlabel('Primary Completion (% of relevant age group)')\n",
    "plt.ylabel('Secondary Enrollment (%net)');\n"
   ]
  },
  {
   "cell_type": "code",
   "execution_count": null,
   "id": "2525365e",
   "metadata": {},
   "outputs": [],
   "source": []
  }
 ],
 "metadata": {
  "kernelspec": {
   "display_name": "Python 3 (ipykernel)",
   "language": "python",
   "name": "python3"
  },
  "language_info": {
   "codemirror_mode": {
    "name": "ipython",
    "version": 3
   },
   "file_extension": ".py",
   "mimetype": "text/x-python",
   "name": "python",
   "nbconvert_exporter": "python",
   "pygments_lexer": "ipython3",
   "version": "3.9.7"
  }
 },
 "nbformat": 4,
 "nbformat_minor": 5
}
