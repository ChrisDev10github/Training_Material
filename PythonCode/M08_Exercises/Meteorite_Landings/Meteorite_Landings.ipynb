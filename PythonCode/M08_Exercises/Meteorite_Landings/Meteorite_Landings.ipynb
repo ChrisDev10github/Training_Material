{
 "cells": [
  {
   "cell_type": "code",
   "execution_count": 13,
   "id": "365ffa5c",
   "metadata": {},
   "outputs": [],
   "source": [
    "import pandas as pd\n",
    "import math\n",
    "met = pd.read_csv('Meteorite_Landings (2).csv')"
   ]
  },
  {
   "cell_type": "code",
   "execution_count": 2,
   "id": "4c11fc37",
   "metadata": {},
   "outputs": [
    {
     "data": {
      "text/plain": [
       "Index(['name', 'id', 'nametype', 'recclass', 'mass (g)', 'fall', 'year',\n",
       "       'reclat', 'reclong', 'GeoLocation'],\n",
       "      dtype='object')"
      ]
     },
     "execution_count": 2,
     "metadata": {},
     "output_type": "execute_result"
    }
   ],
   "source": [
    "met.columns"
   ]
  },
  {
   "cell_type": "code",
   "execution_count": 3,
   "id": "919afeac",
   "metadata": {},
   "outputs": [],
   "source": [
    "del met['nametype']"
   ]
  },
  {
   "cell_type": "code",
   "execution_count": 4,
   "id": "f46cf374",
   "metadata": {},
   "outputs": [
    {
     "data": {
      "text/plain": [
       "Index(['name', 'id', 'recclass', 'mass (g)', 'fall', 'year', 'reclat',\n",
       "       'reclong', 'GeoLocation'],\n",
       "      dtype='object')"
      ]
     },
     "execution_count": 4,
     "metadata": {},
     "output_type": "execute_result"
    }
   ],
   "source": [
    "met.columns"
   ]
  },
  {
   "cell_type": "code",
   "execution_count": 6,
   "id": "91c735a6",
   "metadata": {},
   "outputs": [
    {
     "name": "stdout",
     "output_type": "stream",
     "text": [
      "<class 'pandas.core.frame.DataFrame'>\n",
      "RangeIndex: 45716 entries, 0 to 45715\n",
      "Data columns (total 9 columns):\n",
      " #   Column       Non-Null Count  Dtype  \n",
      "---  ------       --------------  -----  \n",
      " 0   name         45716 non-null  object \n",
      " 1   id           45716 non-null  int64  \n",
      " 2   recclass     45716 non-null  object \n",
      " 3   mass (g)     45585 non-null  float64\n",
      " 4   fall         45716 non-null  object \n",
      " 5   year         45425 non-null  float64\n",
      " 6   reclat       38401 non-null  float64\n",
      " 7   reclong      38401 non-null  float64\n",
      " 8   GeoLocation  38401 non-null  object \n",
      "dtypes: float64(4), int64(1), object(4)\n",
      "memory usage: 3.1+ MB\n"
     ]
    }
   ],
   "source": [
    "met.info()"
   ]
  },
  {
   "cell_type": "code",
   "execution_count": 9,
   "id": "0040843d",
   "metadata": {},
   "outputs": [],
   "source": [
    "met['mass (g)'] = met['mass (g)'].fillna (0)"
   ]
  },
  {
   "cell_type": "code",
   "execution_count": 10,
   "id": "cbeb780b",
   "metadata": {},
   "outputs": [
    {
     "name": "stdout",
     "output_type": "stream",
     "text": [
      "<class 'pandas.core.frame.DataFrame'>\n",
      "RangeIndex: 45716 entries, 0 to 45715\n",
      "Data columns (total 9 columns):\n",
      " #   Column       Non-Null Count  Dtype  \n",
      "---  ------       --------------  -----  \n",
      " 0   name         45716 non-null  object \n",
      " 1   id           45716 non-null  int64  \n",
      " 2   recclass     45716 non-null  object \n",
      " 3   mass (g)     45716 non-null  float64\n",
      " 4   fall         45716 non-null  object \n",
      " 5   year         45425 non-null  float64\n",
      " 6   reclat       38401 non-null  float64\n",
      " 7   reclong      38401 non-null  float64\n",
      " 8   GeoLocation  38401 non-null  object \n",
      "dtypes: float64(4), int64(1), object(4)\n",
      "memory usage: 3.1+ MB\n"
     ]
    }
   ],
   "source": [
    "met.info()"
   ]
  },
  {
   "cell_type": "code",
   "execution_count": 11,
   "id": "8116d8bf",
   "metadata": {},
   "outputs": [
    {
     "data": {
      "text/plain": [
       "False"
      ]
     },
     "execution_count": 11,
     "metadata": {},
     "output_type": "execute_result"
    }
   ],
   "source": [
    "met.dropna(subset=['year'],inplace=True)\n",
    "# %m/%d/%Y\")\n",
    "met.year.isnull().any()"
   ]
  },
  {
   "cell_type": "code",
   "execution_count": 14,
   "id": "f0d97451",
   "metadata": {},
   "outputs": [
    {
     "ename": "ValueError",
     "evalue": "cannot convert float NaN to integer",
     "output_type": "error",
     "traceback": [
      "\u001b[1;31m---------------------------------------------------------------------------\u001b[0m",
      "\u001b[1;31mValueError\u001b[0m                                Traceback (most recent call last)",
      "\u001b[1;32m~\\AppData\\Local\\Temp/ipykernel_10088/922348714.py\u001b[0m in \u001b[0;36m<module>\u001b[1;34m\u001b[0m\n\u001b[0;32m      3\u001b[0m \u001b[1;32mfor\u001b[0m \u001b[0meach\u001b[0m \u001b[1;32min\u001b[0m \u001b[0mmet\u001b[0m\u001b[1;33m.\u001b[0m\u001b[0myear\u001b[0m\u001b[1;33m.\u001b[0m\u001b[0munique\u001b[0m\u001b[1;33m(\u001b[0m\u001b[1;33m)\u001b[0m\u001b[1;33m:\u001b[0m\u001b[1;33m\u001b[0m\u001b[1;33m\u001b[0m\u001b[0m\n\u001b[0;32m      4\u001b[0m     \u001b[0myears_list\u001b[0m \u001b[1;33m=\u001b[0m \u001b[1;33m[\u001b[0m\u001b[1;33m]\u001b[0m\u001b[1;33m\u001b[0m\u001b[1;33m\u001b[0m\u001b[0m\n\u001b[1;32m----> 5\u001b[1;33m     \u001b[0myear\u001b[0m \u001b[1;33m=\u001b[0m \u001b[1;33m(\u001b[0m\u001b[0mmath\u001b[0m\u001b[1;33m.\u001b[0m\u001b[0mfloor\u001b[0m\u001b[1;33m(\u001b[0m\u001b[0meach\u001b[0m \u001b[1;33m/\u001b[0m \u001b[1;36m10\u001b[0m\u001b[1;33m)\u001b[0m \u001b[1;33m*\u001b[0m \u001b[1;36m10\u001b[0m\u001b[1;33m)\u001b[0m\u001b[1;33m\u001b[0m\u001b[1;33m\u001b[0m\u001b[0m\n\u001b[0m\u001b[0;32m      6\u001b[0m     \u001b[0myears_list\u001b[0m\u001b[1;33m.\u001b[0m\u001b[0mappend\u001b[0m\u001b[1;33m(\u001b[0m\u001b[0myear\u001b[0m\u001b[1;33m)\u001b[0m\u001b[1;33m\u001b[0m\u001b[1;33m\u001b[0m\u001b[0m\n\u001b[0;32m      7\u001b[0m     \u001b[0myear\u001b[0m \u001b[1;33m=\u001b[0m \u001b[0myear\u001b[0m \u001b[1;33m+\u001b[0m \u001b[1;36m9\u001b[0m\u001b[1;33m\u001b[0m\u001b[1;33m\u001b[0m\u001b[0m\n",
      "\u001b[1;31mValueError\u001b[0m: cannot convert float NaN to integer"
     ]
    }
   ],
   "source": [
    "decades = []\n",
    "writer = pd.ExcelWriter('Meteorite Landings by Decade.xlsx',engine = 'xlsxwriter')\n",
    "for each in met.year.unique():\n",
    "    years_list = []\n",
    "    year = (math.floor(each / 10) * 10)\n",
    "    years_list.append(year)\n",
    "    year = year + 9\n",
    "    years_list.append(year)\n",
    "    decades.append(years_list)\n",
    "\n",
    "decades_list = set(tuple(x) for x in decades)\n",
    "decades_list = list(sorted(decades_list))\n",
    "\n",
    "for i in range(len(decades_list)):\n",
    "    df = met[met['year'].between(decades_list[i][0], decades_list[i][1], inclusive='both')]\n",
    "    df = df.sort_values(by=['year','name'])\n",
    "    df.year = df.year.astype(int)\n",
    "    df.year = df.year.astype(str)\n",
    "    df.to_excel(writer,sheet_name = f'{decades_list[i][0]}-{decades_list[i][1]}',index=False)\n",
    "writer.save()"
   ]
  },
  {
   "cell_type": "code",
   "execution_count": null,
   "id": "f3ad34f3",
   "metadata": {},
   "outputs": [],
   "source": []
  }
 ],
 "metadata": {
  "kernelspec": {
   "display_name": "Python 3 (ipykernel)",
   "language": "python",
   "name": "python3"
  },
  "language_info": {
   "codemirror_mode": {
    "name": "ipython",
    "version": 3
   },
   "file_extension": ".py",
   "mimetype": "text/x-python",
   "name": "python",
   "nbconvert_exporter": "python",
   "pygments_lexer": "ipython3",
   "version": "3.9.7"
  }
 },
 "nbformat": 4,
 "nbformat_minor": 5
}
