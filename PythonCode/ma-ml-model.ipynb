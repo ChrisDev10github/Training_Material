{
 "cells": [
  {
   "cell_type": "code",
   "execution_count": 2,
   "metadata": {},
   "outputs": [],
   "source": [
    "import numpy as np\n",
    "import pandas as pd \n",
    "import matplotlib.pyplot as plt\n",
    "\n",
    "from sklearn.linear_model import ElasticNet\n",
    "from sklearn.datasets import make_regression\n",
    "from sklearn.impute import SimpleImputer\n",
    "from sklearn.preprocessing import StandardScaler\n",
    "from sklearn.model_selection import train_test_split\n",
    "import seaborn as sns\n"
   ]
  },
  {
   "cell_type": "code",
   "execution_count": 3,
   "metadata": {},
   "outputs": [],
   "source": [
    "ml_df = pd.read_csv('full-disaster-loan.csv')"
   ]
  },
  {
   "cell_type": "code",
   "execution_count": 4,
   "metadata": {},
   "outputs": [
    {
     "data": {
      "text/html": [
       "<div>\n",
       "<style scoped>\n",
       "    .dataframe tbody tr th:only-of-type {\n",
       "        vertical-align: middle;\n",
       "    }\n",
       "\n",
       "    .dataframe tbody tr th {\n",
       "        vertical-align: top;\n",
       "    }\n",
       "\n",
       "    .dataframe thead th {\n",
       "        text-align: right;\n",
       "    }\n",
       "</style>\n",
       "<table border=\"1\" class=\"dataframe\">\n",
       "  <thead>\n",
       "    <tr style=\"text-align: right;\">\n",
       "      <th></th>\n",
       "      <th>SBA Physical Declaration Number</th>\n",
       "      <th>SBA EIDL Declaration Number</th>\n",
       "      <th>SBA Disaster Number</th>\n",
       "      <th>Damaged Property City Name</th>\n",
       "      <th>Damaged Property Zip Code</th>\n",
       "      <th>Damaged Property County/Parish Name</th>\n",
       "      <th>Total Verified Loss</th>\n",
       "      <th>Verified Loss Real Estate</th>\n",
       "      <th>Verified Loss Content</th>\n",
       "      <th>Total Approved Loan Amount</th>\n",
       "      <th>Approved Amount Real Estate</th>\n",
       "      <th>Approved Amount Content</th>\n",
       "      <th>Approved Amount EIDL</th>\n",
       "      <th>Year</th>\n",
       "      <th>State</th>\n",
       "    </tr>\n",
       "  </thead>\n",
       "  <tbody>\n",
       "    <tr>\n",
       "      <th>0</th>\n",
       "      <td>11055</td>\n",
       "      <td>11056.0</td>\n",
       "      <td>TX-00265</td>\n",
       "      <td>BOERNE</td>\n",
       "      <td>78006.0</td>\n",
       "      <td>KENDALL</td>\n",
       "      <td>747912.0</td>\n",
       "      <td>747912.0</td>\n",
       "      <td>0.0</td>\n",
       "      <td>0.0</td>\n",
       "      <td>0.0</td>\n",
       "      <td>0.0</td>\n",
       "      <td>0.0</td>\n",
       "      <td>2008</td>\n",
       "      <td>Texas</td>\n",
       "    </tr>\n",
       "    <tr>\n",
       "      <th>1</th>\n",
       "      <td>11055</td>\n",
       "      <td>11056.0</td>\n",
       "      <td>TX-00265</td>\n",
       "      <td>CASTROVILLE</td>\n",
       "      <td>78009.0</td>\n",
       "      <td>MEDINA</td>\n",
       "      <td>111171.0</td>\n",
       "      <td>72946.0</td>\n",
       "      <td>38225.0</td>\n",
       "      <td>69700.0</td>\n",
       "      <td>26400.0</td>\n",
       "      <td>26700.0</td>\n",
       "      <td>16600.0</td>\n",
       "      <td>2008</td>\n",
       "      <td>Texas</td>\n",
       "    </tr>\n",
       "    <tr>\n",
       "      <th>2</th>\n",
       "      <td>11055</td>\n",
       "      <td>11056.0</td>\n",
       "      <td>TX-00265</td>\n",
       "      <td>HAMLIN</td>\n",
       "      <td>79520.0</td>\n",
       "      <td>JONES</td>\n",
       "      <td>4235.0</td>\n",
       "      <td>4235.0</td>\n",
       "      <td>0.0</td>\n",
       "      <td>4300.0</td>\n",
       "      <td>4300.0</td>\n",
       "      <td>0.0</td>\n",
       "      <td>0.0</td>\n",
       "      <td>2008</td>\n",
       "      <td>Texas</td>\n",
       "    </tr>\n",
       "    <tr>\n",
       "      <th>3</th>\n",
       "      <td>11055</td>\n",
       "      <td>11056.0</td>\n",
       "      <td>TX-00265</td>\n",
       "      <td>HOUSTON</td>\n",
       "      <td>77034.0</td>\n",
       "      <td>HARRIS</td>\n",
       "      <td>57525.0</td>\n",
       "      <td>57525.0</td>\n",
       "      <td>0.0</td>\n",
       "      <td>0.0</td>\n",
       "      <td>0.0</td>\n",
       "      <td>0.0</td>\n",
       "      <td>0.0</td>\n",
       "      <td>2008</td>\n",
       "      <td>Texas</td>\n",
       "    </tr>\n",
       "    <tr>\n",
       "      <th>4</th>\n",
       "      <td>11055</td>\n",
       "      <td>11056.0</td>\n",
       "      <td>TX-00265</td>\n",
       "      <td>MERKEL</td>\n",
       "      <td>79536.0</td>\n",
       "      <td>TAYLOR</td>\n",
       "      <td>87424.0</td>\n",
       "      <td>76474.0</td>\n",
       "      <td>10950.0</td>\n",
       "      <td>0.0</td>\n",
       "      <td>0.0</td>\n",
       "      <td>0.0</td>\n",
       "      <td>0.0</td>\n",
       "      <td>2008</td>\n",
       "      <td>Texas</td>\n",
       "    </tr>\n",
       "  </tbody>\n",
       "</table>\n",
       "</div>"
      ],
      "text/plain": [
       "   SBA Physical Declaration Number  SBA EIDL Declaration Number  \\\n",
       "0                            11055                      11056.0   \n",
       "1                            11055                      11056.0   \n",
       "2                            11055                      11056.0   \n",
       "3                            11055                      11056.0   \n",
       "4                            11055                      11056.0   \n",
       "\n",
       "  SBA Disaster Number Damaged Property City Name  Damaged Property Zip Code  \\\n",
       "0            TX-00265                     BOERNE                    78006.0   \n",
       "1            TX-00265                CASTROVILLE                    78009.0   \n",
       "2            TX-00265                     HAMLIN                    79520.0   \n",
       "3            TX-00265                    HOUSTON                    77034.0   \n",
       "4            TX-00265                     MERKEL                    79536.0   \n",
       "\n",
       "  Damaged Property County/Parish Name  Total Verified Loss  \\\n",
       "0                             KENDALL             747912.0   \n",
       "1                              MEDINA             111171.0   \n",
       "2                               JONES               4235.0   \n",
       "3                              HARRIS              57525.0   \n",
       "4                              TAYLOR              87424.0   \n",
       "\n",
       "   Verified Loss Real Estate  Verified Loss Content  \\\n",
       "0                   747912.0                    0.0   \n",
       "1                    72946.0                38225.0   \n",
       "2                     4235.0                    0.0   \n",
       "3                    57525.0                    0.0   \n",
       "4                    76474.0                10950.0   \n",
       "\n",
       "   Total Approved Loan Amount  Approved Amount Real Estate  \\\n",
       "0                         0.0                          0.0   \n",
       "1                     69700.0                      26400.0   \n",
       "2                      4300.0                       4300.0   \n",
       "3                         0.0                          0.0   \n",
       "4                         0.0                          0.0   \n",
       "\n",
       "   Approved Amount Content  Approved Amount EIDL  Year  State  \n",
       "0                      0.0                   0.0  2008  Texas  \n",
       "1                  26700.0               16600.0  2008  Texas  \n",
       "2                      0.0                   0.0  2008  Texas  \n",
       "3                      0.0                   0.0  2008  Texas  \n",
       "4                      0.0                   0.0  2008  Texas  "
      ]
     },
     "execution_count": 4,
     "metadata": {},
     "output_type": "execute_result"
    }
   ],
   "source": [
    "ml_df.head()"
   ]
  },
  {
   "cell_type": "code",
   "execution_count": 5,
   "metadata": {},
   "outputs": [],
   "source": [
    "y = ml_df['Total Approved Loan Amount']\n",
    "X = ml_df.drop(['Total Approved Loan Amount', 'SBA Disaster Number', 'Damaged Property City Name', 'Damaged Property County/Parish Name', 'State'], axis=1.)\n",
    "\n",
    "X_train, X_test, y_train, y_test = train_test_split(X,y,test_size=.25, random_state=0)"
   ]
  },
  {
   "cell_type": "code",
   "execution_count": 6,
   "metadata": {},
   "outputs": [],
   "source": [
    "model = ElasticNet(alpha=1.0, l1_ratio=0.5)\n",
    "ma_enet_model = model.fit(X_train, y_train)"
   ]
  },
  {
   "cell_type": "code",
   "execution_count": 7,
   "metadata": {},
   "outputs": [
    {
     "data": {
      "text/plain": [
       "array([-9.60924971e-01, -1.08206831e-04,  2.03549666e-02, -7.00952281e-03,\n",
       "       -1.08104125e-03,  7.29380839e-03,  1.05264415e+00,  1.01338153e+00,\n",
       "        9.81579234e-01,  2.72064541e+01])"
      ]
     },
     "execution_count": 7,
     "metadata": {},
     "output_type": "execute_result"
    }
   ],
   "source": [
    "ma_enet_model.coef_ "
   ]
  },
  {
   "cell_type": "code",
   "execution_count": 8,
   "metadata": {},
   "outputs": [
    {
     "data": {
      "text/plain": [
       "-44221.08346370194"
      ]
     },
     "execution_count": 8,
     "metadata": {},
     "output_type": "execute_result"
    }
   ],
   "source": [
    "ma_enet_model.intercept_"
   ]
  },
  {
   "cell_type": "code",
   "execution_count": 9,
   "metadata": {},
   "outputs": [
    {
     "data": {
      "text/plain": [
       "array([ 6.40537149e+02, -1.42452870e+03, -3.02420055e+02,  1.73918540e+04,\n",
       "        7.34436577e+05,  1.47072918e+07,  6.15179893e+03,  1.51077880e+03,\n",
       "        4.31131309e+04,  1.67083489e+04])"
      ]
     },
     "execution_count": 9,
     "metadata": {},
     "output_type": "execute_result"
    }
   ],
   "source": [
    "train_prediction = ma_enet_model.predict(X_train)[:10]\n",
    "\n",
    "train_prediction\n"
   ]
  },
  {
   "cell_type": "code",
   "execution_count": 10,
   "metadata": {},
   "outputs": [
    {
     "data": {
      "text/plain": [
       "array([  -652.39327885,  -3395.59574385,  -2047.70387901, 355600.16463336,\n",
       "         7237.09900249,  60974.55161502,  13075.92582994,  85021.91348973,\n",
       "          906.362891  ,  59658.55330345])"
      ]
     },
     "execution_count": 10,
     "metadata": {},
     "output_type": "execute_result"
    }
   ],
   "source": [
    "model_prediction = ma_enet_model.predict(X_test)[:10]\n",
    "\n",
    "model_prediction"
   ]
  },
  {
   "cell_type": "code",
<<<<<<< HEAD
   "execution_count": 1,
   "metadata": {},
   "outputs": [],
   "source": [
    "from joblib import dump, load\n"
   ]
  },
  {
   "cell_type": "code",
   "execution_count": 2,
   "metadata": {},
   "outputs": [
    {
     "ename": "NameError",
     "evalue": "name 'model' is not defined",
     "output_type": "error",
     "traceback": [
      "\u001b[1;31m---------------------------------------------------------------------------\u001b[0m",
      "\u001b[1;31mNameError\u001b[0m                                 Traceback (most recent call last)",
      "\u001b[1;32m~\\AppData\\Local\\Temp/ipykernel_22184/3198414774.py\u001b[0m in \u001b[0;36m<module>\u001b[1;34m\u001b[0m\n\u001b[1;32m----> 1\u001b[1;33m \u001b[0mdump\u001b[0m\u001b[1;33m(\u001b[0m\u001b[0mmodel\u001b[0m\u001b[1;33m,\u001b[0m\u001b[1;34m'testmodel'\u001b[0m\u001b[1;33m)\u001b[0m\u001b[1;33m\u001b[0m\u001b[1;33m\u001b[0m\u001b[0m\n\u001b[0m\u001b[0;32m      2\u001b[0m \u001b[0mloaded_model\u001b[0m \u001b[1;33m=\u001b[0m \u001b[0mload\u001b[0m\u001b[1;33m(\u001b[0m\u001b[1;34m'testmodel'\u001b[0m\u001b[1;33m)\u001b[0m\u001b[1;33m\u001b[0m\u001b[1;33m\u001b[0m\u001b[0m\n",
      "\u001b[1;31mNameError\u001b[0m: name 'model' is not defined"
     ]
    }
   ],
   "source": [
    "dump(model,'testmodel')\n",
    "loaded_model = load('testmodel')"
   ]
=======
   "execution_count": 11,
   "metadata": {},
   "outputs": [],
   "source": [
    "from joblib import dump, load\n"
   ]
  },
  {
   "cell_type": "code",
   "execution_count": 12,
   "metadata": {},
   "outputs": [],
   "source": [
    "dump(model,'testmodel.csv')\n",
    "loaded_model = load('testmodel.csv')"
   ]
  },
  {
   "cell_type": "code",
   "execution_count": null,
   "metadata": {},
   "outputs": [],
   "source": []
>>>>>>> 8bfc5633844c41dfd96fb2319b0ca59b0d843ded
  }
 ],
 "metadata": {
  "interpreter": {
   "hash": "df3f64ca5e16a52414df56f6fd8e5b33b60cd9e67139926ade6a9b44fe3fa7c2"
  },
  "kernelspec": {
   "display_name": "Python 3.9.7 ('base')",
   "language": "python",
   "name": "python3"
  },
  "language_info": {
   "codemirror_mode": {
    "name": "ipython",
    "version": 3
   },
   "file_extension": ".py",
   "mimetype": "text/x-python",
   "name": "python",
   "nbconvert_exporter": "python",
   "pygments_lexer": "ipython3",
   "version": "3.9.7"
  },
  "orig_nbformat": 4
 },
 "nbformat": 4,
 "nbformat_minor": 2
}
