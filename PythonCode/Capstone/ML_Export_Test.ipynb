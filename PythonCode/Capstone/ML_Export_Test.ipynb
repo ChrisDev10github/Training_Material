{
 "cells": [
  {
   "cell_type": "code",
   "execution_count": null,
   "id": "2b2e6aa0",
   "metadata": {},
   "outputs": [],
   "source": [
    "import pandas as pd\n",
    "import numpy as np\n",
    "\n",
    "df_2008 = pd.read_csv(\"loans2008.csv\")\n",
    "df_2008.head()\n",
    "df_2008.drop(\"_id\", axis=1, inplace=True) #removing ID column\n",
    "df_2008.drop(\"FEMA Disaster Number\", axis=1, inplace=True) #Removing FEMA column\n",
    "df_2008['Year'] = 2008 #adding year\n",
    "df_2008.head()"
   ]
  },
  {
   "cell_type": "code",
   "execution_count": null,
   "id": "998e5905",
   "metadata": {},
   "outputs": [],
   "source": [
    "df_2009 = pd.read_csv(\"loans2009.csv\")\n",
    "\n",
    "df_2009.drop(\"FEMA Disaster Number\", axis=1, inplace=True) #Removing FEMA column \n",
    "df_2009.drop(\"_id\", axis=1, inplace=True) #Removing ID column\n",
    "df_2009.dropna()\n",
    "df_2009['Year']=2009 #adding the year column\n",
    "df_2009.head()"
   ]
  },
  {
   "cell_type": "code",
   "execution_count": null,
   "id": "a9b8a3ab",
   "metadata": {},
   "outputs": [],
   "source": [
    "df_2010 = pd.read_csv(\"loans2010.csv\")\n",
    "\n",
    "df_2010.drop(\"FEMA Disaster Number\", axis=1, inplace=True)\n",
    "df_2010.drop(\"_id\", axis=1, inplace=True)\n",
    "df_2010.dropna()\n",
    "\n",
    "df_2010['Year']=2010\n",
    "df_2010.head(20)"
   ]
  },
  {
   "cell_type": "code",
   "execution_count": null,
   "id": "15e1014b",
   "metadata": {},
   "outputs": [],
   "source": [
    "df_2011 = pd.read_csv(\"loans2011.csv\")\n",
    "\n",
    "df_2011.drop(\"FEMA Disaster Number\", axis=1, inplace=True)\n",
    "df_2011.drop(\"_id\", axis=1, inplace=True)\n",
    "df_2011.dropna()\n",
    "\n",
    "df_2011['Year']=2011\n",
    "df_2011.head()\n"
   ]
  },
  {
   "cell_type": "code",
   "execution_count": null,
   "id": "251f8cbd",
   "metadata": {},
   "outputs": [],
   "source": [
    "df_2012 = pd.read_csv(\"loans2012.csv\")\n",
    "\n",
    "df_2012.drop(\"FEMA Disaster Number\", axis=1, inplace=True)\n",
    "df_2012.drop(\"_id\", axis=1, inplace=True)\n",
    "df_2012.dropna()\n",
    "\n",
    "df_2012['Year']=2012\n",
    "df_2012.head()"
   ]
  },
  {
   "cell_type": "code",
   "execution_count": null,
   "id": "e484557e",
   "metadata": {},
   "outputs": [],
   "source": [
    "df_2013 = pd.read_csv(\"loans2013.csv\")\n",
    "\n",
    "df_2013.drop(\"FEMA Disaster Number\", axis=1, inplace=True)\n",
    "df_2013.drop(\"_id\", axis=1, inplace=True)\n",
    "df_2013.dropna()\n",
    "\n",
    "df_2013['Year']=2013\n",
    "df_2013.head()"
   ]
  },
  {
   "cell_type": "code",
   "execution_count": null,
   "id": "cc7420cd",
   "metadata": {},
   "outputs": [],
   "source": [
    "df_2014 = pd.read_csv(\"loans2014.csv\")\n",
    "\n",
    "df_2014.drop(\"FEMA Disaster Number\", axis=1, inplace=True)\n",
    "df_2014.drop(\"_id\", axis=1, inplace=True)\n",
    "df_2014.dropna()\n",
    "\n",
    "df_2014['Year']=2014\n",
    "df_2014.head()"
   ]
  },
  {
   "cell_type": "code",
   "execution_count": null,
   "id": "df0e4c4a",
   "metadata": {},
   "outputs": [],
   "source": [
    "df_2015 = pd.read_csv(\"loans2015.csv\")\n",
    "\n",
    "df_2015.drop(\"FEMA Disaster Number\", axis=1, inplace=True)\n",
    "df_2015.drop(\"_id\", axis=1, inplace=True)\n",
    "df_2015.dropna()\n",
    "\n",
    "df_2015['Year']=2015\n",
    "df_2015.head()"
   ]
  },
  {
   "cell_type": "code",
   "execution_count": null,
   "id": "f16a2a45",
   "metadata": {},
   "outputs": [],
   "source": [
    "df_all = df_2008.append(df_2009, ignore_index = True)\n",
    "df_all = df_all.append(df_2010, ignore_index = True)\n",
    "df_all = df_all.append(df_2011, ignore_index = True)\n",
    "df_all = df_all.append(df_2012, ignore_index = True)\n",
    "df_all = df_all.append(df_2013, ignore_index = True)\n",
    "df_all = df_all.append(df_2014, ignore_index = True)\n",
    "df_all = df_all.append(df_2015, ignore_index = True)\n",
    "df_all.Year.unique()\n",
    "df_all.info()"
   ]
  },
  {
   "cell_type": "code",
   "execution_count": null,
   "id": "1c6adb86",
   "metadata": {},
   "outputs": [],
   "source": [
    "df_all.isnull().sum()"
   ]
  },
  {
   "cell_type": "code",
   "execution_count": null,
   "id": "1c8520ca",
   "metadata": {},
   "outputs": [],
   "source": [
    "States = pd.read_csv(\"states.csv\")"
   ]
  },
  {
   "cell_type": "code",
   "execution_count": null,
   "id": "52253635",
   "metadata": {},
   "outputs": [],
   "source": [
    "df_all.dropna(axis=0, inplace=True)"
   ]
  },
  {
   "cell_type": "code",
   "execution_count": null,
   "id": "08b084ab",
   "metadata": {},
   "outputs": [],
   "source": [
    "States = States.rename(columns={'Code': 'State Code'})"
   ]
  },
  {
   "cell_type": "code",
   "execution_count": null,
   "id": "fabc70d5",
   "metadata": {},
   "outputs": [],
   "source": [
    "df_all = df_all.rename(columns={'Damaged Property State Code': 'State Code'})"
   ]
  },
  {
   "cell_type": "code",
   "execution_count": null,
   "id": "307de840",
   "metadata": {},
   "outputs": [],
   "source": [
    "df = df_all.merge(States, on='State Code', how='inner')\n",
    "\n",
    "df.drop(\"State Code\", axis=1, inplace=True)\n",
    "df.drop(\"Abbrev\", axis=1, inplace=True)"
   ]
  },
  {
   "cell_type": "code",
   "execution_count": null,
   "id": "ecca681e",
   "metadata": {},
   "outputs": [],
   "source": [
    "df.info()"
   ]
  },
  {
   "cell_type": "code",
   "execution_count": null,
   "id": "e6df1d76",
   "metadata": {},
   "outputs": [],
   "source": []
  },
  {
   "cell_type": "code",
   "execution_count": null,
   "id": "390d5382",
   "metadata": {},
   "outputs": [],
   "source": []
  },
  {
   "cell_type": "code",
   "execution_count": null,
   "id": "cabe8100",
   "metadata": {},
   "outputs": [],
   "source": []
  }
 ],
 "metadata": {
  "kernelspec": {
   "display_name": "Python 3 (ipykernel)",
   "language": "python",
   "name": "python3"
  },
  "language_info": {
   "codemirror_mode": {
    "name": "ipython",
    "version": 3
   },
   "file_extension": ".py",
   "mimetype": "text/x-python",
   "name": "python",
   "nbconvert_exporter": "python",
   "pygments_lexer": "ipython3",
   "version": "3.9.7"
  }
 },
 "nbformat": 4,
 "nbformat_minor": 5
}
