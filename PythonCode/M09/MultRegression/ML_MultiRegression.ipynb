{
 "cells": [
  {
   "cell_type": "code",
   "execution_count": 68,
   "id": "14e6ad09-d644-451b-a3e2-1d9a54a7a6af",
   "metadata": {},
   "outputs": [],
   "source": [
    "import pandas as pd\n",
    "import numpy as np\n",
    "from sklearn.impute import SimpleImputer\n",
    "import datetime as dt\n",
    "from datetime import date\n",
    "from sklearn.model_selection import train_test_split\n",
    "from sklearn.linear_model import LinearRegression\n",
    "import seaborn as sns\n",
    "import matplotlib.pyplot as plt"
   ]
  },
  {
   "cell_type": "code",
   "execution_count": 69,
   "id": "1ddff0d2-f637-4753-9c85-e3f3d5c8f935",
   "metadata": {},
   "outputs": [],
   "source": [
    "cars = pd.read_csv('Cars93.csv')"
   ]
  },
  {
   "cell_type": "code",
   "execution_count": 70,
   "id": "81616ded-be07-44ad-97d6-a1a802f1cbd7",
   "metadata": {},
   "outputs": [
    {
     "name": "stdout",
     "output_type": "stream",
     "text": [
      "<class 'pandas.core.frame.DataFrame'>\n",
      "RangeIndex: 93 entries, 0 to 92\n",
      "Data columns (total 28 columns):\n",
      " #   Column              Non-Null Count  Dtype  \n",
      "---  ------              --------------  -----  \n",
      " 0   Unnamed: 0          93 non-null     int64  \n",
      " 1   Manufacturer        93 non-null     object \n",
      " 2   Model               93 non-null     object \n",
      " 3   Type                93 non-null     object \n",
      " 4   Min.Price           93 non-null     float64\n",
      " 5   Price               93 non-null     float64\n",
      " 6   Max.Price           93 non-null     float64\n",
      " 7   MPG.city            93 non-null     int64  \n",
      " 8   MPG.highway         93 non-null     int64  \n",
      " 9   AirBags             93 non-null     object \n",
      " 10  DriveTrain          93 non-null     object \n",
      " 11  Cylinders           93 non-null     object \n",
      " 12  EngineSize          93 non-null     float64\n",
      " 13  Horsepower          93 non-null     int64  \n",
      " 14  RPM                 93 non-null     int64  \n",
      " 15  Rev.per.mile        93 non-null     int64  \n",
      " 16  Man.trans.avail     93 non-null     object \n",
      " 17  Fuel.tank.capacity  93 non-null     float64\n",
      " 18  Passengers          93 non-null     int64  \n",
      " 19  Length              93 non-null     int64  \n",
      " 20  Wheelbase           93 non-null     int64  \n",
      " 21  Width               93 non-null     int64  \n",
      " 22  Turn.circle         93 non-null     int64  \n",
      " 23  Rear.seat.room      91 non-null     float64\n",
      " 24  Luggage.room        82 non-null     float64\n",
      " 25  Weight              93 non-null     int64  \n",
      " 26  Origin              93 non-null     object \n",
      " 27  Make                93 non-null     object \n",
      "dtypes: float64(7), int64(12), object(9)\n",
      "memory usage: 20.5+ KB\n"
     ]
    }
   ],
   "source": [
    "#cars.rename(columns={'Unnamed: 0':'Indx'}, inplace=True)\n",
    "cars.info()"
   ]
  },
  {
   "cell_type": "code",
   "execution_count": 71,
   "id": "48a5b19d-e992-4d46-accf-43878861f965",
   "metadata": {},
   "outputs": [],
   "source": [
    "cars.dropna(subset=['Luggage.room','Rear.seat.room'], axis=0, inplace = True)"
   ]
  },
  {
   "cell_type": "code",
   "execution_count": 72,
   "id": "457e380d-bee5-45df-b19d-1a122a179ed0",
   "metadata": {},
   "outputs": [
    {
     "data": {
      "text/html": [
       "<div>\n",
       "<style scoped>\n",
       "    .dataframe tbody tr th:only-of-type {\n",
       "        vertical-align: middle;\n",
       "    }\n",
       "\n",
       "    .dataframe tbody tr th {\n",
       "        vertical-align: top;\n",
       "    }\n",
       "\n",
       "    .dataframe thead th {\n",
       "        text-align: right;\n",
       "    }\n",
       "</style>\n",
       "<table border=\"1\" class=\"dataframe\">\n",
       "  <thead>\n",
       "    <tr style=\"text-align: right;\">\n",
       "      <th></th>\n",
       "      <th>Unnamed: 0</th>\n",
       "      <th>Manufacturer</th>\n",
       "      <th>Model</th>\n",
       "      <th>Type</th>\n",
       "      <th>Min.Price</th>\n",
       "      <th>Price</th>\n",
       "      <th>Max.Price</th>\n",
       "      <th>MPG.city</th>\n",
       "      <th>MPG.highway</th>\n",
       "      <th>AirBags</th>\n",
       "      <th>...</th>\n",
       "      <th>Passengers</th>\n",
       "      <th>Length</th>\n",
       "      <th>Wheelbase</th>\n",
       "      <th>Width</th>\n",
       "      <th>Turn.circle</th>\n",
       "      <th>Rear.seat.room</th>\n",
       "      <th>Luggage.room</th>\n",
       "      <th>Weight</th>\n",
       "      <th>Origin</th>\n",
       "      <th>Make</th>\n",
       "    </tr>\n",
       "  </thead>\n",
       "  <tbody>\n",
       "    <tr>\n",
       "      <th>0</th>\n",
       "      <td>1</td>\n",
       "      <td>Acura</td>\n",
       "      <td>Integra</td>\n",
       "      <td>Small</td>\n",
       "      <td>12.9</td>\n",
       "      <td>15.9</td>\n",
       "      <td>18.8</td>\n",
       "      <td>25</td>\n",
       "      <td>31</td>\n",
       "      <td>None</td>\n",
       "      <td>...</td>\n",
       "      <td>5</td>\n",
       "      <td>177</td>\n",
       "      <td>102</td>\n",
       "      <td>68</td>\n",
       "      <td>37</td>\n",
       "      <td>26.5</td>\n",
       "      <td>11.0</td>\n",
       "      <td>2705</td>\n",
       "      <td>non-USA</td>\n",
       "      <td>Acura Integra</td>\n",
       "    </tr>\n",
       "    <tr>\n",
       "      <th>1</th>\n",
       "      <td>2</td>\n",
       "      <td>Acura</td>\n",
       "      <td>Legend</td>\n",
       "      <td>Midsize</td>\n",
       "      <td>29.2</td>\n",
       "      <td>33.9</td>\n",
       "      <td>38.7</td>\n",
       "      <td>18</td>\n",
       "      <td>25</td>\n",
       "      <td>Driver &amp; Passenger</td>\n",
       "      <td>...</td>\n",
       "      <td>5</td>\n",
       "      <td>195</td>\n",
       "      <td>115</td>\n",
       "      <td>71</td>\n",
       "      <td>38</td>\n",
       "      <td>30.0</td>\n",
       "      <td>15.0</td>\n",
       "      <td>3560</td>\n",
       "      <td>non-USA</td>\n",
       "      <td>Acura Legend</td>\n",
       "    </tr>\n",
       "    <tr>\n",
       "      <th>2</th>\n",
       "      <td>3</td>\n",
       "      <td>Audi</td>\n",
       "      <td>90</td>\n",
       "      <td>Compact</td>\n",
       "      <td>25.9</td>\n",
       "      <td>29.1</td>\n",
       "      <td>32.3</td>\n",
       "      <td>20</td>\n",
       "      <td>26</td>\n",
       "      <td>Driver only</td>\n",
       "      <td>...</td>\n",
       "      <td>5</td>\n",
       "      <td>180</td>\n",
       "      <td>102</td>\n",
       "      <td>67</td>\n",
       "      <td>37</td>\n",
       "      <td>28.0</td>\n",
       "      <td>14.0</td>\n",
       "      <td>3375</td>\n",
       "      <td>non-USA</td>\n",
       "      <td>Audi 90</td>\n",
       "    </tr>\n",
       "    <tr>\n",
       "      <th>3</th>\n",
       "      <td>4</td>\n",
       "      <td>Audi</td>\n",
       "      <td>100</td>\n",
       "      <td>Midsize</td>\n",
       "      <td>30.8</td>\n",
       "      <td>37.7</td>\n",
       "      <td>44.6</td>\n",
       "      <td>19</td>\n",
       "      <td>26</td>\n",
       "      <td>Driver &amp; Passenger</td>\n",
       "      <td>...</td>\n",
       "      <td>6</td>\n",
       "      <td>193</td>\n",
       "      <td>106</td>\n",
       "      <td>70</td>\n",
       "      <td>37</td>\n",
       "      <td>31.0</td>\n",
       "      <td>17.0</td>\n",
       "      <td>3405</td>\n",
       "      <td>non-USA</td>\n",
       "      <td>Audi 100</td>\n",
       "    </tr>\n",
       "    <tr>\n",
       "      <th>4</th>\n",
       "      <td>5</td>\n",
       "      <td>BMW</td>\n",
       "      <td>535i</td>\n",
       "      <td>Midsize</td>\n",
       "      <td>23.7</td>\n",
       "      <td>30.0</td>\n",
       "      <td>36.2</td>\n",
       "      <td>22</td>\n",
       "      <td>30</td>\n",
       "      <td>Driver only</td>\n",
       "      <td>...</td>\n",
       "      <td>4</td>\n",
       "      <td>186</td>\n",
       "      <td>109</td>\n",
       "      <td>69</td>\n",
       "      <td>39</td>\n",
       "      <td>27.0</td>\n",
       "      <td>13.0</td>\n",
       "      <td>3640</td>\n",
       "      <td>non-USA</td>\n",
       "      <td>BMW 535i</td>\n",
       "    </tr>\n",
       "  </tbody>\n",
       "</table>\n",
       "<p>5 rows × 28 columns</p>\n",
       "</div>"
      ],
      "text/plain": [
       "   Unnamed: 0 Manufacturer    Model     Type  Min.Price  Price  Max.Price  \\\n",
       "0           1        Acura  Integra    Small       12.9   15.9       18.8   \n",
       "1           2        Acura   Legend  Midsize       29.2   33.9       38.7   \n",
       "2           3         Audi       90  Compact       25.9   29.1       32.3   \n",
       "3           4         Audi      100  Midsize       30.8   37.7       44.6   \n",
       "4           5          BMW     535i  Midsize       23.7   30.0       36.2   \n",
       "\n",
       "   MPG.city  MPG.highway             AirBags  ... Passengers Length  \\\n",
       "0        25           31                None  ...          5    177   \n",
       "1        18           25  Driver & Passenger  ...          5    195   \n",
       "2        20           26         Driver only  ...          5    180   \n",
       "3        19           26  Driver & Passenger  ...          6    193   \n",
       "4        22           30         Driver only  ...          4    186   \n",
       "\n",
       "   Wheelbase  Width  Turn.circle  Rear.seat.room Luggage.room  Weight  \\\n",
       "0        102     68           37            26.5         11.0    2705   \n",
       "1        115     71           38            30.0         15.0    3560   \n",
       "2        102     67           37            28.0         14.0    3375   \n",
       "3        106     70           37            31.0         17.0    3405   \n",
       "4        109     69           39            27.0         13.0    3640   \n",
       "\n",
       "    Origin           Make  \n",
       "0  non-USA  Acura Integra  \n",
       "1  non-USA   Acura Legend  \n",
       "2  non-USA        Audi 90  \n",
       "3  non-USA       Audi 100  \n",
       "4  non-USA       BMW 535i  \n",
       "\n",
       "[5 rows x 28 columns]"
      ]
     },
     "execution_count": 72,
     "metadata": {},
     "output_type": "execute_result"
    }
   ],
   "source": [
    "cars.head()"
   ]
  },
  {
   "cell_type": "code",
   "execution_count": 73,
   "id": "3bf91208-acd8-419f-add6-a28f28430f83",
   "metadata": {},
   "outputs": [
    {
     "name": "stdout",
     "output_type": "stream",
     "text": [
      "<class 'pandas.core.frame.DataFrame'>\n",
      "Int64Index: 82 entries, 0 to 92\n",
      "Data columns (total 27 columns):\n",
      " #   Column              Non-Null Count  Dtype  \n",
      "---  ------              --------------  -----  \n",
      " 0   Manufacturer        82 non-null     object \n",
      " 1   Model               82 non-null     object \n",
      " 2   Type                82 non-null     object \n",
      " 3   Min.Price           82 non-null     float64\n",
      " 4   Price               82 non-null     float64\n",
      " 5   Max.Price           82 non-null     float64\n",
      " 6   MPG.city            82 non-null     int64  \n",
      " 7   MPG.highway         82 non-null     int64  \n",
      " 8   AirBags             82 non-null     object \n",
      " 9   DriveTrain          82 non-null     object \n",
      " 10  Cylinders           82 non-null     object \n",
      " 11  EngineSize          82 non-null     float64\n",
      " 12  Horsepower          82 non-null     int64  \n",
      " 13  RPM                 82 non-null     int64  \n",
      " 14  Rev.per.mile        82 non-null     int64  \n",
      " 15  Man.trans.avail     82 non-null     object \n",
      " 16  Fuel.tank.capacity  82 non-null     float64\n",
      " 17  Passengers          82 non-null     int64  \n",
      " 18  Length              82 non-null     int64  \n",
      " 19  Wheelbase           82 non-null     int64  \n",
      " 20  Width               82 non-null     int64  \n",
      " 21  Turn.circle         82 non-null     int64  \n",
      " 22  Rear.seat.room      82 non-null     float64\n",
      " 23  Luggage.room        82 non-null     float64\n",
      " 24  Weight              82 non-null     int64  \n",
      " 25  Origin              82 non-null     object \n",
      " 26  Make                82 non-null     object \n",
      "dtypes: float64(7), int64(11), object(9)\n",
      "memory usage: 17.9+ KB\n"
     ]
    }
   ],
   "source": [
    "cars.drop(columns=['Unnamed: 0'], axis=1, inplace=True)\n",
    "cars.info()"
   ]
  },
  {
   "cell_type": "code",
   "execution_count": 74,
   "id": "7af6b177-a2ce-48ac-a107-f8a080f75c2c",
   "metadata": {},
   "outputs": [],
   "source": [
    "cars['Cylinders'] = cars['Cylinders'].astype(float)"
   ]
  },
  {
   "cell_type": "code",
   "execution_count": 75,
   "id": "722cfb03-b7e1-4fb4-b92b-4ea29e5e2e14",
   "metadata": {},
   "outputs": [
    {
     "data": {
      "text/plain": [
       "array([4., 6., 8., 3., 5.])"
      ]
     },
     "execution_count": 75,
     "metadata": {},
     "output_type": "execute_result"
    }
   ],
   "source": [
    "cars['Cylinders'].unique()"
   ]
  },
  {
   "cell_type": "code",
   "execution_count": 76,
   "id": "59aa32ee-cb2b-408a-8399-83d0b388ab63",
   "metadata": {},
   "outputs": [],
   "source": [
    "y = cars.copy()\n",
    "y= y[['MPG.highway']]"
   ]
  },
  {
   "cell_type": "code",
   "execution_count": 77,
   "id": "f8469162-7254-4d9f-bc7f-fa183fd303ab",
   "metadata": {},
   "outputs": [],
   "source": [
    "x = cars.copy()\n",
    "x.drop(columns=['MPG.highway'],axis=1, inplace=True)"
   ]
  },
  {
   "cell_type": "code",
   "execution_count": 78,
   "id": "50b5bf4e-3a08-4dd0-9bce-5f4796212f69",
   "metadata": {},
   "outputs": [
    {
     "data": {
      "text/plain": [
       "Index(['Manufacturer', 'Model', 'Type', 'Min.Price', 'Price', 'Max.Price',\n",
       "       'MPG.city', 'AirBags', 'DriveTrain', 'Cylinders', 'EngineSize',\n",
       "       'Horsepower', 'RPM', 'Rev.per.mile', 'Man.trans.avail',\n",
       "       'Fuel.tank.capacity', 'Passengers', 'Length', 'Wheelbase', 'Width',\n",
       "       'Turn.circle', 'Rear.seat.room', 'Luggage.room', 'Weight', 'Origin',\n",
       "       'Make'],\n",
       "      dtype='object')"
      ]
     },
     "execution_count": 78,
     "metadata": {},
     "output_type": "execute_result"
    }
   ],
   "source": [
    "x.columns"
   ]
  },
  {
   "cell_type": "code",
   "execution_count": 79,
   "id": "c3e7289c-b065-4007-9c1d-de74450e9bcc",
   "metadata": {},
   "outputs": [],
   "source": [
    "x = pd.get_dummies(x, columns=['Manufacturer','Model','Type','AirBags','DriveTrain','Man.trans.avail','Origin','Make'], drop_first=True)"
   ]
  },
  {
   "cell_type": "code",
   "execution_count": 80,
   "id": "c08d6f14-9120-40b1-a598-7928c9031117",
   "metadata": {},
   "outputs": [
    {
     "name": "stdout",
     "output_type": "stream",
     "text": [
      "<class 'pandas.core.frame.DataFrame'>\n",
      "Int64Index: 82 entries, 0 to 92\n",
      "Columns: 221 entries, Min.Price to Make_Volvo 850\n",
      "dtypes: float64(8), int64(10), uint8(203)\n",
      "memory usage: 28.4 KB\n"
     ]
    }
   ],
   "source": [
    "x.info()"
   ]
  },
  {
   "cell_type": "code",
   "execution_count": 81,
   "id": "3de930c7-6899-4a04-9e57-dd60d7dc5c75",
   "metadata": {},
   "outputs": [],
   "source": [
    "x_train, x_test, y_train, y_test = train_test_split(x, y, test_size=0.25, random_state=0)"
   ]
  },
  {
   "cell_type": "code",
   "execution_count": 95,
   "id": "bc11ac96-fdf9-4bfd-96fe-77a1bedfee19",
   "metadata": {},
   "outputs": [],
   "source": [
    "reg = LinearRegression().fit(x_train,y_train)"
   ]
  },
  {
   "cell_type": "code",
   "execution_count": 96,
   "id": "eb17e885-6ada-4877-a545-97b316abb042",
   "metadata": {},
   "outputs": [],
   "source": [
    "x_predict = [x.loc[5]]\n",
    "x_predict2 = [x.loc[7]]\n",
    "\n",
    "pred1 = reg.predict(x_predict)\n",
    "pred2 = reg.predict(x_predict2)"
   ]
  },
  {
   "cell_type": "code",
   "execution_count": 92,
   "id": "9d842471-3c6c-4740-9179-48995088fa28",
   "metadata": {},
   "outputs": [
    {
     "data": {
      "text/plain": [
       "array([[25.]])"
      ]
     },
     "execution_count": 92,
     "metadata": {},
     "output_type": "execute_result"
    }
   ],
   "source": [
    "pred2\n",
    "#ax = cars.plot(title='Weight of Vehicles vs MPG', kind='scatter', x='Weight',y='MPG.highway')\n",
    "#ax.plot(x, reg.coef_ * x, color='r')"
   ]
  },
  {
   "cell_type": "code",
   "execution_count": 94,
   "id": "d2ca09af-8b0f-4217-a14e-f80512325c14",
   "metadata": {},
   "outputs": [
    {
     "data": {
      "text/plain": [
       "0.9682384135821539"
      ]
     },
     "execution_count": 94,
     "metadata": {},
     "output_type": "execute_result"
    }
   ],
   "source": [
    "reg.score(x, y, sample_weight=None)"
   ]
  },
  {
   "cell_type": "code",
   "execution_count": null,
   "id": "9036aade-9a13-4030-b96a-c2e9910af85a",
   "metadata": {},
   "outputs": [],
   "source": [
    "#add prediction to dataframe and scatterplot it!!\n",
    "#to print out coefficients add the things"
   ]
  },
  {
   "cell_type": "code",
   "execution_count": 97,
   "id": "e2706b95-a2ac-4d0c-9ad7-d4fef69852b5",
   "metadata": {},
   "outputs": [],
   "source": [
    "test_predictions = reg.predict(x_test)"
   ]
  },
  {
   "cell_type": "code",
   "execution_count": 98,
   "id": "2535c1c7-7a5f-44ae-b65b-75249af389ed",
   "metadata": {},
   "outputs": [
    {
     "data": {
      "text/plain": [
       "array([[29.30198027],\n",
       "       [25.8947586 ],\n",
       "       [27.56307201],\n",
       "       [24.19905827],\n",
       "       [27.04985934],\n",
       "       [23.76958129],\n",
       "       [31.53508784],\n",
       "       [27.63885421],\n",
       "       [26.68998159],\n",
       "       [24.68037285],\n",
       "       [35.59261755],\n",
       "       [30.79914092],\n",
       "       [27.74702704],\n",
       "       [29.61729396],\n",
       "       [48.06544529],\n",
       "       [32.32537075],\n",
       "       [33.8119522 ],\n",
       "       [35.90589703],\n",
       "       [34.7283024 ],\n",
       "       [32.93354227],\n",
       "       [27.81185103]])"
      ]
     },
     "execution_count": 98,
     "metadata": {},
     "output_type": "execute_result"
    }
   ],
   "source": [
    "test_predictions"
   ]
  },
  {
   "cell_type": "code",
   "execution_count": 99,
   "id": "ac423057-4324-4f0d-903e-7dc07f8da704",
   "metadata": {},
   "outputs": [
    {
     "name": "stderr",
     "output_type": "stream",
     "text": [
      "C:\\Users\\Daniel\\AppData\\Local\\Temp/ipykernel_20792/2661249642.py:1: SettingWithCopyWarning: \n",
      "A value is trying to be set on a copy of a slice from a DataFrame.\n",
      "Try using .loc[row_indexer,col_indexer] = value instead\n",
      "\n",
      "See the caveats in the documentation: https://pandas.pydata.org/pandas-docs/stable/user_guide/indexing.html#returning-a-view-versus-a-copy\n",
      "  x_test['predictions'] = test_predictions\n"
     ]
    }
   ],
   "source": [
    "x_test['predictions'] = test_predictions"
   ]
  },
  {
   "cell_type": "code",
   "execution_count": 101,
   "id": "468f215f-003c-42ef-b2eb-98f4938e9769",
   "metadata": {},
   "outputs": [
    {
     "data": {
      "image/png": "[encoded data removed]",
      "text/plain": [
       "<Figure size 432x288 with 1 Axes>"
      ]
     },
     "metadata": {
      "needs_background": "light"
     },
     "output_type": "display_data"
    },
    {
     "data": {
      "image/png": "[encoded data removed]",
      "text/plain": [
       "<Figure size 432x288 with 1 Axes>"
      ]
     },
     "metadata": {
      "needs_background": "light"
     },
     "output_type": "display_data"
    }
   ],
   "source": [
    "ax = x_test.plot(title='Weight of Vehicles vs MPG', kind='scatter', x='Cylinders',y='predictions')\n",
    "ax2 = cars.plot(title='Weight of Vehicles vs MPG', kind='scatter', x='Cylinders',y='MPG.highway')"
   ]
  },
  {
   "cell_type": "code",
   "execution_count": null,
   "id": "4634fa46-f8c7-4804-b5da-19f87296329e",
   "metadata": {},
   "outputs": [],
   "source": []
  }
 ],
 "metadata": {
  "kernelspec": {
   "display_name": "Python 3 (ipykernel)",
   "language": "python",
   "name": "python3"
  },
  "language_info": {
   "codemirror_mode": {
    "name": "ipython",
    "version": 3
   },
   "file_extension": ".py",
   "mimetype": "text/x-python",
   "name": "python",
   "nbconvert_exporter": "python",
   "pygments_lexer": "ipython3",
   "version": "3.9.7"
  }
 },
 "nbformat": 4,
 "nbformat_minor": 5
}
