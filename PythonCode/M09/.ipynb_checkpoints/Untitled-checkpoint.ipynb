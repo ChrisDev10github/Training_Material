{
 "cells": [
  {
   "cell_type": "code",
   "execution_count": 22,
   "id": "e22e84da",
   "metadata": {},
   "outputs": [],
   "source": [
    "import pandas as pd\n",
    "import datetime\n",
    "\n"
   ]
  },
  {
   "cell_type": "code",
   "execution_count": 2,
   "id": "de6d3fff",
   "metadata": {},
   "outputs": [
    {
     "data": {
      "text/html": [
       "<div>\n",
       "<style scoped>\n",
       "    .dataframe tbody tr th:only-of-type {\n",
       "        vertical-align: middle;\n",
       "    }\n",
       "\n",
       "    .dataframe tbody tr th {\n",
       "        vertical-align: top;\n",
       "    }\n",
       "\n",
       "    .dataframe thead th {\n",
       "        text-align: right;\n",
       "    }\n",
       "</style>\n",
       "<table border=\"1\" class=\"dataframe\">\n",
       "  <thead>\n",
       "    <tr style=\"text-align: right;\">\n",
       "      <th></th>\n",
       "      <th>Index</th>\n",
       "      <th>Title</th>\n",
       "      <th>Artist</th>\n",
       "      <th>Top Genre</th>\n",
       "      <th>Year</th>\n",
       "      <th>Month</th>\n",
       "      <th>Beats Per Minute (BPM)</th>\n",
       "      <th>Energy</th>\n",
       "      <th>Danceability</th>\n",
       "      <th>Loudness (dB)</th>\n",
       "      <th>Liveness</th>\n",
       "      <th>Valence</th>\n",
       "      <th>Length (Duration)</th>\n",
       "      <th>Acousticness</th>\n",
       "      <th>Speechiness</th>\n",
       "      <th>Popularity</th>\n",
       "    </tr>\n",
       "  </thead>\n",
       "  <tbody>\n",
       "    <tr>\n",
       "      <th>0</th>\n",
       "      <td>1</td>\n",
       "      <td>Sunrise</td>\n",
       "      <td>Norah Jones</td>\n",
       "      <td>adult standards</td>\n",
       "      <td>2004.0</td>\n",
       "      <td>10</td>\n",
       "      <td>157.0</td>\n",
       "      <td>30.0</td>\n",
       "      <td>53.0</td>\n",
       "      <td>-14.0</td>\n",
       "      <td>11.0</td>\n",
       "      <td>68.0</td>\n",
       "      <td>201</td>\n",
       "      <td>94.0</td>\n",
       "      <td>3.0</td>\n",
       "      <td>71.0</td>\n",
       "    </tr>\n",
       "    <tr>\n",
       "      <th>1</th>\n",
       "      <td>2</td>\n",
       "      <td>Black Night</td>\n",
       "      <td>Deep Purple</td>\n",
       "      <td>album rock</td>\n",
       "      <td>2000.0</td>\n",
       "      <td>3</td>\n",
       "      <td>135.0</td>\n",
       "      <td>79.0</td>\n",
       "      <td>50.0</td>\n",
       "      <td>-11.0</td>\n",
       "      <td>17.0</td>\n",
       "      <td>81.0</td>\n",
       "      <td>207</td>\n",
       "      <td>17.0</td>\n",
       "      <td>7.0</td>\n",
       "      <td>39.0</td>\n",
       "    </tr>\n",
       "    <tr>\n",
       "      <th>2</th>\n",
       "      <td>3</td>\n",
       "      <td>Clint Eastwood</td>\n",
       "      <td>Gorillaz</td>\n",
       "      <td>alternative hip hop</td>\n",
       "      <td>2001.0</td>\n",
       "      <td>6</td>\n",
       "      <td>168.0</td>\n",
       "      <td>69.0</td>\n",
       "      <td>66.0</td>\n",
       "      <td>-9.0</td>\n",
       "      <td>7.0</td>\n",
       "      <td>52.0</td>\n",
       "      <td>341</td>\n",
       "      <td>2.0</td>\n",
       "      <td>17.0</td>\n",
       "      <td>69.0</td>\n",
       "    </tr>\n",
       "    <tr>\n",
       "      <th>3</th>\n",
       "      <td>4</td>\n",
       "      <td>The Pretender</td>\n",
       "      <td>Foo Fighters</td>\n",
       "      <td>alternative metal</td>\n",
       "      <td>2007.0</td>\n",
       "      <td>1</td>\n",
       "      <td>173.0</td>\n",
       "      <td>96.0</td>\n",
       "      <td>43.0</td>\n",
       "      <td>-4.0</td>\n",
       "      <td>3.0</td>\n",
       "      <td>37.0</td>\n",
       "      <td>269</td>\n",
       "      <td>0.0</td>\n",
       "      <td>4.0</td>\n",
       "      <td>76.0</td>\n",
       "    </tr>\n",
       "    <tr>\n",
       "      <th>4</th>\n",
       "      <td>5</td>\n",
       "      <td>Waitin' On A Sunny Day</td>\n",
       "      <td>Bruce Springsteen</td>\n",
       "      <td>classic rock</td>\n",
       "      <td>2002.0</td>\n",
       "      <td>8</td>\n",
       "      <td>106.0</td>\n",
       "      <td>82.0</td>\n",
       "      <td>58.0</td>\n",
       "      <td>-5.0</td>\n",
       "      <td>10.0</td>\n",
       "      <td>87.0</td>\n",
       "      <td>256</td>\n",
       "      <td>1.0</td>\n",
       "      <td>3.0</td>\n",
       "      <td>59.0</td>\n",
       "    </tr>\n",
       "    <tr>\n",
       "      <th>...</th>\n",
       "      <td>...</td>\n",
       "      <td>...</td>\n",
       "      <td>...</td>\n",
       "      <td>...</td>\n",
       "      <td>...</td>\n",
       "      <td>...</td>\n",
       "      <td>...</td>\n",
       "      <td>...</td>\n",
       "      <td>...</td>\n",
       "      <td>...</td>\n",
       "      <td>...</td>\n",
       "      <td>...</td>\n",
       "      <td>...</td>\n",
       "      <td>...</td>\n",
       "      <td>...</td>\n",
       "      <td>...</td>\n",
       "    </tr>\n",
       "    <tr>\n",
       "      <th>1989</th>\n",
       "      <td>1990</td>\n",
       "      <td>Heartbreak Hotel</td>\n",
       "      <td>Elvis Presley</td>\n",
       "      <td>adult standards</td>\n",
       "      <td>1958.0</td>\n",
       "      <td>4</td>\n",
       "      <td>94.0</td>\n",
       "      <td>21.0</td>\n",
       "      <td>NaN</td>\n",
       "      <td>-12.0</td>\n",
       "      <td>11.0</td>\n",
       "      <td>72.0</td>\n",
       "      <td>128</td>\n",
       "      <td>84.0</td>\n",
       "      <td>7.0</td>\n",
       "      <td>63.0</td>\n",
       "    </tr>\n",
       "    <tr>\n",
       "      <th>1990</th>\n",
       "      <td>1991</td>\n",
       "      <td>Hound Dog</td>\n",
       "      <td>Elvis Presley</td>\n",
       "      <td>adult standards</td>\n",
       "      <td>1958.0</td>\n",
       "      <td>6</td>\n",
       "      <td>175.0</td>\n",
       "      <td>76.0</td>\n",
       "      <td>NaN</td>\n",
       "      <td>-8.0</td>\n",
       "      <td>76.0</td>\n",
       "      <td>95.0</td>\n",
       "      <td>136</td>\n",
       "      <td>73.0</td>\n",
       "      <td>6.0</td>\n",
       "      <td>69.0</td>\n",
       "    </tr>\n",
       "    <tr>\n",
       "      <th>1991</th>\n",
       "      <td>1992</td>\n",
       "      <td>Johnny B. Goode</td>\n",
       "      <td>Chuck Berry</td>\n",
       "      <td>blues rock</td>\n",
       "      <td>1959.0</td>\n",
       "      <td>4</td>\n",
       "      <td>168.0</td>\n",
       "      <td>80.0</td>\n",
       "      <td>NaN</td>\n",
       "      <td>-9.0</td>\n",
       "      <td>31.0</td>\n",
       "      <td>97.0</td>\n",
       "      <td>162</td>\n",
       "      <td>74.0</td>\n",
       "      <td>7.0</td>\n",
       "      <td>74.0</td>\n",
       "    </tr>\n",
       "    <tr>\n",
       "      <th>1992</th>\n",
       "      <td>1993</td>\n",
       "      <td>Take Five</td>\n",
       "      <td>The Dave Brubeck Quartet</td>\n",
       "      <td>bebop</td>\n",
       "      <td>1959.0</td>\n",
       "      <td>10</td>\n",
       "      <td>174.0</td>\n",
       "      <td>26.0</td>\n",
       "      <td>45.0</td>\n",
       "      <td>-13.0</td>\n",
       "      <td>7.0</td>\n",
       "      <td>60.0</td>\n",
       "      <td>324</td>\n",
       "      <td>54.0</td>\n",
       "      <td>4.0</td>\n",
       "      <td>65.0</td>\n",
       "    </tr>\n",
       "    <tr>\n",
       "      <th>1993</th>\n",
       "      <td>1994</td>\n",
       "      <td>Blueberry Hill</td>\n",
       "      <td>Fats Domino</td>\n",
       "      <td>adult standards</td>\n",
       "      <td>1959.0</td>\n",
       "      <td>6</td>\n",
       "      <td>133.0</td>\n",
       "      <td>50.0</td>\n",
       "      <td>49.0</td>\n",
       "      <td>-10.0</td>\n",
       "      <td>16.0</td>\n",
       "      <td>83.0</td>\n",
       "      <td>148</td>\n",
       "      <td>74.0</td>\n",
       "      <td>3.0</td>\n",
       "      <td>56.0</td>\n",
       "    </tr>\n",
       "  </tbody>\n",
       "</table>\n",
       "<p>1994 rows × 16 columns</p>\n",
       "</div>"
      ],
      "text/plain": [
       "      Index                   Title                    Artist  \\\n",
       "0         1                 Sunrise               Norah Jones   \n",
       "1         2             Black Night               Deep Purple   \n",
       "2         3          Clint Eastwood                  Gorillaz   \n",
       "3         4           The Pretender              Foo Fighters   \n",
       "4         5  Waitin' On A Sunny Day         Bruce Springsteen   \n",
       "...     ...                     ...                       ...   \n",
       "1989   1990        Heartbreak Hotel             Elvis Presley   \n",
       "1990   1991               Hound Dog             Elvis Presley   \n",
       "1991   1992         Johnny B. Goode               Chuck Berry   \n",
       "1992   1993               Take Five  The Dave Brubeck Quartet   \n",
       "1993   1994          Blueberry Hill               Fats Domino   \n",
       "\n",
       "                Top Genre    Year Month  Beats Per Minute (BPM)  Energy  \\\n",
       "0         adult standards  2004.0    10                   157.0    30.0   \n",
       "1              album rock  2000.0     3                   135.0    79.0   \n",
       "2     alternative hip hop  2001.0     6                   168.0    69.0   \n",
       "3       alternative metal  2007.0     1                   173.0    96.0   \n",
       "4            classic rock  2002.0     8                   106.0    82.0   \n",
       "...                   ...     ...   ...                     ...     ...   \n",
       "1989      adult standards  1958.0     4                    94.0    21.0   \n",
       "1990      adult standards  1958.0     6                   175.0    76.0   \n",
       "1991           blues rock  1959.0     4                   168.0    80.0   \n",
       "1992                bebop  1959.0    10                   174.0    26.0   \n",
       "1993      adult standards  1959.0     6                   133.0    50.0   \n",
       "\n",
       "      Danceability  Loudness (dB)  Liveness  Valence Length (Duration)  \\\n",
       "0             53.0          -14.0      11.0     68.0               201   \n",
       "1             50.0          -11.0      17.0     81.0               207   \n",
       "2             66.0           -9.0       7.0     52.0               341   \n",
       "3             43.0           -4.0       3.0     37.0               269   \n",
       "4             58.0           -5.0      10.0     87.0               256   \n",
       "...            ...            ...       ...      ...               ...   \n",
       "1989           NaN          -12.0      11.0     72.0               128   \n",
       "1990           NaN           -8.0      76.0     95.0               136   \n",
       "1991           NaN           -9.0      31.0     97.0               162   \n",
       "1992          45.0          -13.0       7.0     60.0               324   \n",
       "1993          49.0          -10.0      16.0     83.0               148   \n",
       "\n",
       "      Acousticness  Speechiness  Popularity  \n",
       "0             94.0          3.0        71.0  \n",
       "1             17.0          7.0        39.0  \n",
       "2              2.0         17.0        69.0  \n",
       "3              0.0          4.0        76.0  \n",
       "4              1.0          3.0        59.0  \n",
       "...            ...          ...         ...  \n",
       "1989          84.0          7.0        63.0  \n",
       "1990          73.0          6.0        69.0  \n",
       "1991          74.0          7.0        74.0  \n",
       "1992          54.0          4.0        65.0  \n",
       "1993          74.0          3.0        56.0  \n",
       "\n",
       "[1994 rows x 16 columns]"
      ]
     },
     "execution_count": 2,
     "metadata": {},
     "output_type": "execute_result"
    }
   ],
   "source": [
    "music = pd.read_csv('ml-03-data-processing-songs-dataset.csv')\n",
    "music"
   ]
  },
  {
   "cell_type": "code",
   "execution_count": 3,
   "id": "fcbddc89",
   "metadata": {
    "scrolled": true
   },
   "outputs": [
    {
     "data": {
      "text/plain": [
       "Index                       int64\n",
       "Title                      object\n",
       "Artist                     object\n",
       "Top Genre                  object\n",
       "Year                      float64\n",
       "Month                      object\n",
       "Beats Per Minute (BPM)    float64\n",
       "Energy                    float64\n",
       "Danceability              float64\n",
       "Loudness (dB)             float64\n",
       "Liveness                  float64\n",
       "Valence                   float64\n",
       "Length (Duration)          object\n",
       "Acousticness              float64\n",
       "Speechiness               float64\n",
       "Popularity                float64\n",
       "dtype: object"
      ]
     },
     "execution_count": 3,
     "metadata": {},
     "output_type": "execute_result"
    }
   ],
   "source": [
    "music.dtypes"
   ]
  },
  {
   "cell_type": "code",
   "execution_count": 4,
   "id": "3c624db1",
   "metadata": {
    "scrolled": false
   },
   "outputs": [
    {
     "data": {
      "text/plain": [
       "array(['10', '3', '6', '1', '8', '2', '9', '12', '11', '4', '7', '5',\n",
       "       'Jan', 'Dec', 'Sep', 'Apr', 'Jun', 'May'], dtype=object)"
      ]
     },
     "execution_count": 4,
     "metadata": {},
     "output_type": "execute_result"
    }
   ],
   "source": [
    "music['Month'].unique()"
   ]
  },
  {
   "cell_type": "code",
   "execution_count": 5,
   "id": "4d68a474",
   "metadata": {},
   "outputs": [
    {
     "data": {
      "text/plain": [
       "array(['201', '207', '341', '269', '256', '247', '257', '366', '223',\n",
       "       '290', '162', '232', '214', '639', '173', '236', '288', '276',\n",
       "       '352', '296', '218', '176', '197', '261', '270', '298', '259',\n",
       "       '306', '310', '211', '186', '185', '264', '202', '263', '266',\n",
       "       '629', '177', '237', '278', '331', '355', '213', '234', '216',\n",
       "       '275', '467', '243', '219', '305', '215', '144', '195', '240',\n",
       "       '357', '297', '281', '273', '212', '279', '249', '229', '394',\n",
       "       '375', '226', '210', '258', '283', '231', '268', '403', '321',\n",
       "       '217', '308', '206', '208', '242', '326', '199', '225', '193',\n",
       "       '302', '294', '238', '433', '324', '154', '245', '248', '311',\n",
       "       '272', '289', '253', '181', '184', '203', '280', '146', '196',\n",
       "       '204', '602', '353', '189', '423', '233', '135', '141', '241',\n",
       "       '262', '346', '319', '284', '501', '287', '170', '187', '171',\n",
       "       '414', '252', '209', '364', '246', '235', '161', '274', '286',\n",
       "       '172', '404', '239', '244', '291', '251', '260', '190', '122',\n",
       "       '336', '228', '222', '267', '220', '139', '227', '277', '125',\n",
       "       '335', '386', '376', '150', '174', '317', '343', '192', '137',\n",
       "       '345', '303', '136', '295', '194', '224', '451', '347', '332',\n",
       "       '250', '282', '312', '200', '322', '198', '379', '230', '205',\n",
       "       '183', '330', '320', '140', '328', '182', '221', '165', '188',\n",
       "       '285', '339', '265', '526', '175', '809', '315', '158', '255',\n",
       "       '301', '163', '148', '304', '484', nan, '373', '456', '532', '299',\n",
       "       '159', '348', '167', '468', '254', '293', '155', '384', '157',\n",
       "       '405', '598', '382', '427', '318', '358', '180', '360', '391',\n",
       "       '671', '152', '191', '179', '292', '455', '620', '168', '160',\n",
       "       '309', '147', '344', '663', '444', '166', '483', '435', '1,412',\n",
       "       '271', '300', '342', '471', '502', '517', '377', '443', '108',\n",
       "       '388', '511', '350', '581', '102', '153', '1,121', '387', '559',\n",
       "       '383', '469', '575', '313', '421', '349', '169', '333', '1,367',\n",
       "       '410', '149', '354', '811', '508', '428', '367', '576', '325',\n",
       "       '525', '715', '445', '513', '323', '362', '399', '134', '371',\n",
       "       '653', '334', '488', '590', '314', '93', '457', '448', '327',\n",
       "       '138', '365', '351', '361', '966', '489', '452', '859', '407',\n",
       "       '478', '408', '458', '409', '521', '340', '368', '156', '417',\n",
       "       '434', '419', '356', '506', '178', '515', '401', '338', '418',\n",
       "       '406', '142', '446', '390', '659', '337', '395', '536', '389',\n",
       "       '393', '564', '385', '438', '374', '316', '378', '527', '411',\n",
       "       '396', '430', '164', '126', '370', '127', '123', '120', '703',\n",
       "       '151', '130', '413', '450', '449', '1,292', '119', '128'],\n",
       "      dtype=object)"
      ]
     },
     "execution_count": 5,
     "metadata": {},
     "output_type": "execute_result"
    }
   ],
   "source": [
    "music['Length (Duration)'].unique()"
   ]
  },
  {
   "cell_type": "code",
   "execution_count": 6,
   "id": "b3ba5430",
   "metadata": {},
   "outputs": [],
   "source": [
    "music = music.replace(to_replace=\"Jan\",value='1')\n",
    "music = music.replace(to_replace=\"Dec\",value='12')\n",
    "music = music.replace(to_replace=\"Apr\",value='4')\n",
    "music = music.replace(to_replace=\"Jun\",value='6')\n",
    "music = music.replace(to_replace=\"May\",value='5')\n",
    "music = music.replace(to_replace=\"Sep\",value='9')"
   ]
  },
  {
   "cell_type": "code",
   "execution_count": 7,
   "id": "ef821240",
   "metadata": {},
   "outputs": [],
   "source": [
    "#changed format with commas and drop na\n",
    "music[\"Length (Duration)\"] = music[\"Length (Duration)\"].str.replace(',','')\n",
    "music .dropna(subset=[\"Length (Duration)\"],inplace=True)"
   ]
  },
  {
   "cell_type": "code",
   "execution_count": 8,
   "id": "04712fab",
   "metadata": {},
   "outputs": [],
   "source": [
    "#change data types\n",
    "music['Month']=music['Month'].astype(int)\n",
    "music['Length (Duration)']=music['Length (Duration)'].astype(float) #fix comma"
   ]
  },
  {
   "cell_type": "code",
   "execution_count": 9,
   "id": "e00aafa6",
   "metadata": {
    "scrolled": true
   },
   "outputs": [
    {
     "data": {
      "text/plain": [
       "Index                       int64\n",
       "Title                      object\n",
       "Artist                     object\n",
       "Top Genre                  object\n",
       "Year                      float64\n",
       "Month                       int32\n",
       "Beats Per Minute (BPM)    float64\n",
       "Energy                    float64\n",
       "Danceability              float64\n",
       "Loudness (dB)             float64\n",
       "Liveness                  float64\n",
       "Valence                   float64\n",
       "Length (Duration)         float64\n",
       "Acousticness              float64\n",
       "Speechiness               float64\n",
       "Popularity                float64\n",
       "dtype: object"
      ]
     },
     "execution_count": 9,
     "metadata": {},
     "output_type": "execute_result"
    }
   ],
   "source": [
    "music.dtypes"
   ]
  },
  {
   "cell_type": "code",
   "execution_count": 10,
   "id": "872e8f9e",
   "metadata": {
    "scrolled": true
   },
   "outputs": [
    {
     "data": {
      "text/plain": [
       "Index                        0\n",
       "Title                        1\n",
       "Artist                       3\n",
       "Top Genre                    3\n",
       "Year                         4\n",
       "Month                        0\n",
       "Beats Per Minute (BPM)       3\n",
       "Energy                       4\n",
       "Danceability              1015\n",
       "Loudness (dB)                3\n",
       "Liveness                     1\n",
       "Valence                   1026\n",
       "Length (Duration)            0\n",
       "Acousticness                 3\n",
       "Speechiness                  0\n",
       "Popularity                   2\n",
       "dtype: int64"
      ]
     },
     "execution_count": 10,
     "metadata": {},
     "output_type": "execute_result"
    }
   ],
   "source": [
    "#check null\n",
    "music.isnull().sum()"
   ]
  },
  {
   "cell_type": "code",
   "execution_count": 11,
   "id": "3c5758bf",
   "metadata": {},
   "outputs": [
    {
     "data": {
      "text/plain": [
       "(1985, 16)"
      ]
     },
     "execution_count": 11,
     "metadata": {},
     "output_type": "execute_result"
    }
   ],
   "source": [
    "music.shape"
   ]
  },
  {
   "cell_type": "code",
   "execution_count": 13,
   "id": "59037882",
   "metadata": {},
   "outputs": [],
   "source": [
    "#thresh is number of non null values\n",
    "music.drop(['Danceability'],axis=1,inplace=True)\n",
    "music.drop(['Valence'],axis=1,inplace=True)\n"
   ]
  },
  {
   "cell_type": "code",
   "execution_count": 14,
   "id": "62ff3da0",
   "metadata": {},
   "outputs": [
    {
     "name": "stdout",
     "output_type": "stream",
     "text": [
      "<class 'pandas.core.frame.DataFrame'>\n",
      "Int64Index: 1985 entries, 0 to 1993\n",
      "Data columns (total 14 columns):\n",
      " #   Column                  Non-Null Count  Dtype  \n",
      "---  ------                  --------------  -----  \n",
      " 0   Index                   1985 non-null   int64  \n",
      " 1   Title                   1984 non-null   object \n",
      " 2   Artist                  1982 non-null   object \n",
      " 3   Top Genre               1982 non-null   object \n",
      " 4   Year                    1981 non-null   float64\n",
      " 5   Month                   1985 non-null   int32  \n",
      " 6   Beats Per Minute (BPM)  1982 non-null   float64\n",
      " 7   Energy                  1981 non-null   float64\n",
      " 8   Loudness (dB)           1982 non-null   float64\n",
      " 9   Liveness                1984 non-null   float64\n",
      " 10  Length (Duration)       1985 non-null   float64\n",
      " 11  Acousticness            1982 non-null   float64\n",
      " 12  Speechiness             1985 non-null   float64\n",
      " 13  Popularity              1983 non-null   float64\n",
      "dtypes: float64(9), int32(1), int64(1), object(3)\n",
      "memory usage: 224.9+ KB\n"
     ]
    }
   ],
   "source": [
    "music.info()"
   ]
  },
  {
   "cell_type": "code",
   "execution_count": 15,
   "id": "70a1174f",
   "metadata": {},
   "outputs": [
    {
     "data": {
      "text/plain": [
       "Index                                  666\n",
       "Title                          Love & Hate\n",
       "Artist                    Michael Kiwanuka\n",
       "Top Genre                     british soul\n",
       "Year                                2016.0\n",
       "Month                                    9\n",
       "Beats Per Minute (BPM)               170.0\n",
       "Energy                                49.0\n",
       "Loudness (dB)                         -8.0\n",
       "Liveness                              17.0\n",
       "Length (Duration)                    427.0\n",
       "Acousticness                          16.0\n",
       "Speechiness                            3.0\n",
       "Popularity                            66.0\n",
       "Name: 665, dtype: object"
      ]
     },
     "execution_count": 15,
     "metadata": {},
     "output_type": "execute_result"
    }
   ],
   "source": [
    "music.dropna(axis=0, thresh=8, inplace=True)\n",
    "music.iloc[663]"
   ]
  },
  {
   "cell_type": "code",
   "execution_count": 16,
   "id": "64f5502d",
   "metadata": {
    "scrolled": false
   },
   "outputs": [
    {
     "data": {
      "text/html": [
       "<div>\n",
       "<style scoped>\n",
       "    .dataframe tbody tr th:only-of-type {\n",
       "        vertical-align: middle;\n",
       "    }\n",
       "\n",
       "    .dataframe tbody tr th {\n",
       "        vertical-align: top;\n",
       "    }\n",
       "\n",
       "    .dataframe thead th {\n",
       "        text-align: right;\n",
       "    }\n",
       "</style>\n",
       "<table border=\"1\" class=\"dataframe\">\n",
       "  <thead>\n",
       "    <tr style=\"text-align: right;\">\n",
       "      <th></th>\n",
       "      <th>Index</th>\n",
       "      <th>Year</th>\n",
       "      <th>Month</th>\n",
       "      <th>Beats Per Minute (BPM)</th>\n",
       "      <th>Energy</th>\n",
       "      <th>Loudness (dB)</th>\n",
       "      <th>Liveness</th>\n",
       "      <th>Length (Duration)</th>\n",
       "      <th>Acousticness</th>\n",
       "      <th>Speechiness</th>\n",
       "      <th>Popularity</th>\n",
       "    </tr>\n",
       "  </thead>\n",
       "  <tbody>\n",
       "    <tr>\n",
       "      <th>count</th>\n",
       "      <td>1982.000000</td>\n",
       "      <td>1981.000000</td>\n",
       "      <td>1982.000000</td>\n",
       "      <td>1981.000000</td>\n",
       "      <td>1981.000000</td>\n",
       "      <td>1981.000000</td>\n",
       "      <td>1982.000000</td>\n",
       "      <td>1982.000000</td>\n",
       "      <td>1982.000000</td>\n",
       "      <td>1982.000000</td>\n",
       "      <td>1982.000000</td>\n",
       "    </tr>\n",
       "    <tr>\n",
       "      <th>mean</th>\n",
       "      <td>995.980323</td>\n",
       "      <td>1959.439677</td>\n",
       "      <td>6.519173</td>\n",
       "      <td>120.238768</td>\n",
       "      <td>59.641090</td>\n",
       "      <td>-9.018173</td>\n",
       "      <td>19.026741</td>\n",
       "      <td>262.616549</td>\n",
       "      <td>28.927851</td>\n",
       "      <td>4.991423</td>\n",
       "      <td>59.506559</td>\n",
       "    </tr>\n",
       "    <tr>\n",
       "      <th>std</th>\n",
       "      <td>576.240108</td>\n",
       "      <td>251.024147</td>\n",
       "      <td>3.420015</td>\n",
       "      <td>28.652640</td>\n",
       "      <td>22.177314</td>\n",
       "      <td>3.652130</td>\n",
       "      <td>16.751677</td>\n",
       "      <td>93.819708</td>\n",
       "      <td>29.041309</td>\n",
       "      <td>4.410239</td>\n",
       "      <td>14.374163</td>\n",
       "    </tr>\n",
       "    <tr>\n",
       "      <th>min</th>\n",
       "      <td>1.000000</td>\n",
       "      <td>92.000000</td>\n",
       "      <td>1.000000</td>\n",
       "      <td>15.000000</td>\n",
       "      <td>3.000000</td>\n",
       "      <td>-27.000000</td>\n",
       "      <td>2.000000</td>\n",
       "      <td>93.000000</td>\n",
       "      <td>0.000000</td>\n",
       "      <td>2.000000</td>\n",
       "      <td>11.000000</td>\n",
       "    </tr>\n",
       "    <tr>\n",
       "      <th>25%</th>\n",
       "      <td>496.250000</td>\n",
       "      <td>1978.000000</td>\n",
       "      <td>4.000000</td>\n",
       "      <td>99.000000</td>\n",
       "      <td>42.000000</td>\n",
       "      <td>-11.000000</td>\n",
       "      <td>9.000000</td>\n",
       "      <td>212.000000</td>\n",
       "      <td>3.000000</td>\n",
       "      <td>3.000000</td>\n",
       "      <td>49.000000</td>\n",
       "    </tr>\n",
       "    <tr>\n",
       "      <th>50%</th>\n",
       "      <td>994.500000</td>\n",
       "      <td>1994.000000</td>\n",
       "      <td>7.000000</td>\n",
       "      <td>119.000000</td>\n",
       "      <td>61.000000</td>\n",
       "      <td>-9.000000</td>\n",
       "      <td>12.000000</td>\n",
       "      <td>245.000000</td>\n",
       "      <td>18.000000</td>\n",
       "      <td>4.000000</td>\n",
       "      <td>62.000000</td>\n",
       "    </tr>\n",
       "    <tr>\n",
       "      <th>75%</th>\n",
       "      <td>1494.750000</td>\n",
       "      <td>2007.000000</td>\n",
       "      <td>9.000000</td>\n",
       "      <td>136.000000</td>\n",
       "      <td>78.000000</td>\n",
       "      <td>-6.000000</td>\n",
       "      <td>23.000000</td>\n",
       "      <td>290.000000</td>\n",
       "      <td>50.000000</td>\n",
       "      <td>5.000000</td>\n",
       "      <td>71.000000</td>\n",
       "    </tr>\n",
       "    <tr>\n",
       "      <th>max</th>\n",
       "      <td>1994.000000</td>\n",
       "      <td>2019.000000</td>\n",
       "      <td>12.000000</td>\n",
       "      <td>305.000000</td>\n",
       "      <td>100.000000</td>\n",
       "      <td>-2.000000</td>\n",
       "      <td>99.000000</td>\n",
       "      <td>1412.000000</td>\n",
       "      <td>99.000000</td>\n",
       "      <td>55.000000</td>\n",
       "      <td>100.000000</td>\n",
       "    </tr>\n",
       "  </tbody>\n",
       "</table>\n",
       "</div>"
      ],
      "text/plain": [
       "             Index         Year        Month  Beats Per Minute (BPM)  \\\n",
       "count  1982.000000  1981.000000  1982.000000             1981.000000   \n",
       "mean    995.980323  1959.439677     6.519173              120.238768   \n",
       "std     576.240108   251.024147     3.420015               28.652640   \n",
       "min       1.000000    92.000000     1.000000               15.000000   \n",
       "25%     496.250000  1978.000000     4.000000               99.000000   \n",
       "50%     994.500000  1994.000000     7.000000              119.000000   \n",
       "75%    1494.750000  2007.000000     9.000000              136.000000   \n",
       "max    1994.000000  2019.000000    12.000000              305.000000   \n",
       "\n",
       "            Energy  Loudness (dB)     Liveness  Length (Duration)  \\\n",
       "count  1981.000000    1981.000000  1982.000000        1982.000000   \n",
       "mean     59.641090      -9.018173    19.026741         262.616549   \n",
       "std      22.177314       3.652130    16.751677          93.819708   \n",
       "min       3.000000     -27.000000     2.000000          93.000000   \n",
       "25%      42.000000     -11.000000     9.000000         212.000000   \n",
       "50%      61.000000      -9.000000    12.000000         245.000000   \n",
       "75%      78.000000      -6.000000    23.000000         290.000000   \n",
       "max     100.000000      -2.000000    99.000000        1412.000000   \n",
       "\n",
       "       Acousticness  Speechiness   Popularity  \n",
       "count   1982.000000  1982.000000  1982.000000  \n",
       "mean      28.927851     4.991423    59.506559  \n",
       "std       29.041309     4.410239    14.374163  \n",
       "min        0.000000     2.000000    11.000000  \n",
       "25%        3.000000     3.000000    49.000000  \n",
       "50%       18.000000     4.000000    62.000000  \n",
       "75%       50.000000     5.000000    71.000000  \n",
       "max       99.000000    55.000000   100.000000  "
      ]
     },
     "execution_count": 16,
     "metadata": {},
     "output_type": "execute_result"
    }
   ],
   "source": [
    "music.describe()"
   ]
  },
  {
   "cell_type": "code",
   "execution_count": 17,
   "id": "fef774a5",
   "metadata": {},
   "outputs": [
    {
     "data": {
      "text/plain": [
       "2004.0"
      ]
     },
     "execution_count": 17,
     "metadata": {},
     "output_type": "execute_result"
    }
   ],
   "source": [
    "music['Year'][300]"
   ]
  },
  {
   "cell_type": "code",
   "execution_count": 18,
   "id": "46cd6720",
   "metadata": {},
   "outputs": [],
   "source": [
    "#outliers for year\n",
    "def removeout(column,mean,stddev):\n",
    "    for i in range (0,len(music[f'{column}'])):\n",
    "        if music[f'{column}'][i] <=((3*stddev)+mean):\n",
    "            music[f'{column}'][i] = 0\n",
    "        if music[f'{column}'][i] >=((3*stddev)+mean):\n",
    "            music[f'{column}'][i] = 0"
   ]
  },
  {
   "cell_type": "code",
   "execution_count": 20,
   "id": "a4da5b09",
   "metadata": {},
   "outputs": [
    {
     "data": {
      "text/plain": [
       "array([2004., 2000., 2001., 2007., 2002., 2006., 2003., 2005., 2009.,\n",
       "       2008., 2010., 2011., 2012., 2013., 2014., 2015., 2016., 2017.,\n",
       "       2018., 2019., 1970., 1971., 1972.,   nan, 1973., 1974., 1975.,\n",
       "       1976., 1977., 1978., 1979., 1980., 1981., 1982., 1983., 1984.,\n",
       "       1985., 1986., 1987., 1988., 1989., 1990., 1991.,   92., 1993.,\n",
       "       1994., 1995., 1996., 1997., 1998., 1999., 1960., 1961., 1962.,\n",
       "       1963., 1964., 1965., 1966., 1967., 1968., 1969., 1956., 1958.,\n",
       "       1959.])"
      ]
     },
     "execution_count": 20,
     "metadata": {},
     "output_type": "execute_result"
    }
   ],
   "source": [
    "music['Year'].unique()"
   ]
  },
  {
   "cell_type": "code",
   "execution_count": 21,
   "id": "e5c26c00",
   "metadata": {},
   "outputs": [
    {
     "ename": "KeyError",
     "evalue": "'0       2004.0\\n1       2000.0\\n2       2001.0\\n3       2007.0\\n4       2002.0\\n         ...  \\n1989    1958.0\\n1990    1958.0\\n1991    1959.0\\n1992    1959.0\\n1993    1959.0\\nName: Year, Length: 1982, dtype: float64'",
     "output_type": "error",
     "traceback": [
      "\u001b[1;31m---------------------------------------------------------------------------\u001b[0m",
      "\u001b[1;31mKeyError\u001b[0m                                  Traceback (most recent call last)",
      "\u001b[1;32m~\\anaconda3\\lib\\site-packages\\pandas\\core\\indexes\\base.py\u001b[0m in \u001b[0;36mget_loc\u001b[1;34m(self, key, method, tolerance)\u001b[0m\n\u001b[0;32m   3360\u001b[0m             \u001b[1;32mtry\u001b[0m\u001b[1;33m:\u001b[0m\u001b[1;33m\u001b[0m\u001b[1;33m\u001b[0m\u001b[0m\n\u001b[1;32m-> 3361\u001b[1;33m                 \u001b[1;32mreturn\u001b[0m \u001b[0mself\u001b[0m\u001b[1;33m.\u001b[0m\u001b[0m_engine\u001b[0m\u001b[1;33m.\u001b[0m\u001b[0mget_loc\u001b[0m\u001b[1;33m(\u001b[0m\u001b[0mcasted_key\u001b[0m\u001b[1;33m)\u001b[0m\u001b[1;33m\u001b[0m\u001b[1;33m\u001b[0m\u001b[0m\n\u001b[0m\u001b[0;32m   3362\u001b[0m             \u001b[1;32mexcept\u001b[0m \u001b[0mKeyError\u001b[0m \u001b[1;32mas\u001b[0m \u001b[0merr\u001b[0m\u001b[1;33m:\u001b[0m\u001b[1;33m\u001b[0m\u001b[1;33m\u001b[0m\u001b[0m\n",
      "\u001b[1;32m~\\anaconda3\\lib\\site-packages\\pandas\\_libs\\index.pyx\u001b[0m in \u001b[0;36mpandas._libs.index.IndexEngine.get_loc\u001b[1;34m()\u001b[0m\n",
      "\u001b[1;32m~\\anaconda3\\lib\\site-packages\\pandas\\_libs\\index.pyx\u001b[0m in \u001b[0;36mpandas._libs.index.IndexEngine.get_loc\u001b[1;34m()\u001b[0m\n",
      "\u001b[1;32mpandas\\_libs\\hashtable_class_helper.pxi\u001b[0m in \u001b[0;36mpandas._libs.hashtable.PyObjectHashTable.get_item\u001b[1;34m()\u001b[0m\n",
      "\u001b[1;32mpandas\\_libs\\hashtable_class_helper.pxi\u001b[0m in \u001b[0;36mpandas._libs.hashtable.PyObjectHashTable.get_item\u001b[1;34m()\u001b[0m\n",
      "\u001b[1;31mKeyError\u001b[0m: '0       2004.0\\n1       2000.0\\n2       2001.0\\n3       2007.0\\n4       2002.0\\n         ...  \\n1989    1958.0\\n1990    1958.0\\n1991    1959.0\\n1992    1959.0\\n1993    1959.0\\nName: Year, Length: 1982, dtype: float64'",
      "\nThe above exception was the direct cause of the following exception:\n",
      "\u001b[1;31mKeyError\u001b[0m                                  Traceback (most recent call last)",
      "\u001b[1;32m~\\AppData\\Local\\Temp/ipykernel_22744/2270003739.py\u001b[0m in \u001b[0;36m<module>\u001b[1;34m\u001b[0m\n\u001b[1;32m----> 1\u001b[1;33m \u001b[0mremoveout\u001b[0m\u001b[1;33m(\u001b[0m\u001b[0mmusic\u001b[0m\u001b[1;33m[\u001b[0m\u001b[1;34m'Year'\u001b[0m\u001b[1;33m]\u001b[0m\u001b[1;33m,\u001b[0m\u001b[1;36m1959.439677\u001b[0m\u001b[1;33m,\u001b[0m\u001b[1;36m251.024147\u001b[0m\u001b[1;33m)\u001b[0m\u001b[1;33m\u001b[0m\u001b[1;33m\u001b[0m\u001b[0m\n\u001b[0m",
      "\u001b[1;32m~\\AppData\\Local\\Temp/ipykernel_22744/3276322172.py\u001b[0m in \u001b[0;36mremoveout\u001b[1;34m(column, mean, stddev)\u001b[0m\n\u001b[0;32m      1\u001b[0m \u001b[1;31m#outliers for year\u001b[0m\u001b[1;33m\u001b[0m\u001b[1;33m\u001b[0m\u001b[0m\n\u001b[0;32m      2\u001b[0m \u001b[1;32mdef\u001b[0m \u001b[0mremoveout\u001b[0m\u001b[1;33m(\u001b[0m\u001b[0mcolumn\u001b[0m\u001b[1;33m,\u001b[0m\u001b[0mmean\u001b[0m\u001b[1;33m,\u001b[0m\u001b[0mstddev\u001b[0m\u001b[1;33m)\u001b[0m\u001b[1;33m:\u001b[0m\u001b[1;33m\u001b[0m\u001b[1;33m\u001b[0m\u001b[0m\n\u001b[1;32m----> 3\u001b[1;33m     \u001b[1;32mfor\u001b[0m \u001b[0mi\u001b[0m \u001b[1;32min\u001b[0m \u001b[0mrange\u001b[0m \u001b[1;33m(\u001b[0m\u001b[1;36m0\u001b[0m\u001b[1;33m,\u001b[0m\u001b[0mlen\u001b[0m\u001b[1;33m(\u001b[0m\u001b[0mmusic\u001b[0m\u001b[1;33m[\u001b[0m\u001b[1;34mf'{column}'\u001b[0m\u001b[1;33m]\u001b[0m\u001b[1;33m)\u001b[0m\u001b[1;33m)\u001b[0m\u001b[1;33m:\u001b[0m\u001b[1;33m\u001b[0m\u001b[1;33m\u001b[0m\u001b[0m\n\u001b[0m\u001b[0;32m      4\u001b[0m         \u001b[1;32mif\u001b[0m \u001b[0mmusic\u001b[0m\u001b[1;33m[\u001b[0m\u001b[1;34mf'{column}'\u001b[0m\u001b[1;33m]\u001b[0m\u001b[1;33m[\u001b[0m\u001b[0mi\u001b[0m\u001b[1;33m]\u001b[0m \u001b[1;33m<=\u001b[0m\u001b[1;33m(\u001b[0m\u001b[1;33m(\u001b[0m\u001b[1;36m3\u001b[0m\u001b[1;33m*\u001b[0m\u001b[0mstddev\u001b[0m\u001b[1;33m)\u001b[0m\u001b[1;33m+\u001b[0m\u001b[0mmean\u001b[0m\u001b[1;33m)\u001b[0m\u001b[1;33m:\u001b[0m\u001b[1;33m\u001b[0m\u001b[1;33m\u001b[0m\u001b[0m\n\u001b[0;32m      5\u001b[0m             \u001b[0mmusic\u001b[0m\u001b[1;33m[\u001b[0m\u001b[1;34mf'{column}'\u001b[0m\u001b[1;33m]\u001b[0m\u001b[1;33m[\u001b[0m\u001b[0mi\u001b[0m\u001b[1;33m]\u001b[0m \u001b[1;33m=\u001b[0m \u001b[1;36m0\u001b[0m\u001b[1;33m\u001b[0m\u001b[1;33m\u001b[0m\u001b[0m\n",
      "\u001b[1;32m~\\anaconda3\\lib\\site-packages\\pandas\\core\\frame.py\u001b[0m in \u001b[0;36m__getitem__\u001b[1;34m(self, key)\u001b[0m\n\u001b[0;32m   3456\u001b[0m             \u001b[1;32mif\u001b[0m \u001b[0mself\u001b[0m\u001b[1;33m.\u001b[0m\u001b[0mcolumns\u001b[0m\u001b[1;33m.\u001b[0m\u001b[0mnlevels\u001b[0m \u001b[1;33m>\u001b[0m \u001b[1;36m1\u001b[0m\u001b[1;33m:\u001b[0m\u001b[1;33m\u001b[0m\u001b[1;33m\u001b[0m\u001b[0m\n\u001b[0;32m   3457\u001b[0m                 \u001b[1;32mreturn\u001b[0m \u001b[0mself\u001b[0m\u001b[1;33m.\u001b[0m\u001b[0m_getitem_multilevel\u001b[0m\u001b[1;33m(\u001b[0m\u001b[0mkey\u001b[0m\u001b[1;33m)\u001b[0m\u001b[1;33m\u001b[0m\u001b[1;33m\u001b[0m\u001b[0m\n\u001b[1;32m-> 3458\u001b[1;33m             \u001b[0mindexer\u001b[0m \u001b[1;33m=\u001b[0m \u001b[0mself\u001b[0m\u001b[1;33m.\u001b[0m\u001b[0mcolumns\u001b[0m\u001b[1;33m.\u001b[0m\u001b[0mget_loc\u001b[0m\u001b[1;33m(\u001b[0m\u001b[0mkey\u001b[0m\u001b[1;33m)\u001b[0m\u001b[1;33m\u001b[0m\u001b[1;33m\u001b[0m\u001b[0m\n\u001b[0m\u001b[0;32m   3459\u001b[0m             \u001b[1;32mif\u001b[0m \u001b[0mis_integer\u001b[0m\u001b[1;33m(\u001b[0m\u001b[0mindexer\u001b[0m\u001b[1;33m)\u001b[0m\u001b[1;33m:\u001b[0m\u001b[1;33m\u001b[0m\u001b[1;33m\u001b[0m\u001b[0m\n\u001b[0;32m   3460\u001b[0m                 \u001b[0mindexer\u001b[0m \u001b[1;33m=\u001b[0m \u001b[1;33m[\u001b[0m\u001b[0mindexer\u001b[0m\u001b[1;33m]\u001b[0m\u001b[1;33m\u001b[0m\u001b[1;33m\u001b[0m\u001b[0m\n",
      "\u001b[1;32m~\\anaconda3\\lib\\site-packages\\pandas\\core\\indexes\\base.py\u001b[0m in \u001b[0;36mget_loc\u001b[1;34m(self, key, method, tolerance)\u001b[0m\n\u001b[0;32m   3361\u001b[0m                 \u001b[1;32mreturn\u001b[0m \u001b[0mself\u001b[0m\u001b[1;33m.\u001b[0m\u001b[0m_engine\u001b[0m\u001b[1;33m.\u001b[0m\u001b[0mget_loc\u001b[0m\u001b[1;33m(\u001b[0m\u001b[0mcasted_key\u001b[0m\u001b[1;33m)\u001b[0m\u001b[1;33m\u001b[0m\u001b[1;33m\u001b[0m\u001b[0m\n\u001b[0;32m   3362\u001b[0m             \u001b[1;32mexcept\u001b[0m \u001b[0mKeyError\u001b[0m \u001b[1;32mas\u001b[0m \u001b[0merr\u001b[0m\u001b[1;33m:\u001b[0m\u001b[1;33m\u001b[0m\u001b[1;33m\u001b[0m\u001b[0m\n\u001b[1;32m-> 3363\u001b[1;33m                 \u001b[1;32mraise\u001b[0m \u001b[0mKeyError\u001b[0m\u001b[1;33m(\u001b[0m\u001b[0mkey\u001b[0m\u001b[1;33m)\u001b[0m \u001b[1;32mfrom\u001b[0m \u001b[0merr\u001b[0m\u001b[1;33m\u001b[0m\u001b[1;33m\u001b[0m\u001b[0m\n\u001b[0m\u001b[0;32m   3364\u001b[0m \u001b[1;33m\u001b[0m\u001b[0m\n\u001b[0;32m   3365\u001b[0m         \u001b[1;32mif\u001b[0m \u001b[0mis_scalar\u001b[0m\u001b[1;33m(\u001b[0m\u001b[0mkey\u001b[0m\u001b[1;33m)\u001b[0m \u001b[1;32mand\u001b[0m \u001b[0misna\u001b[0m\u001b[1;33m(\u001b[0m\u001b[0mkey\u001b[0m\u001b[1;33m)\u001b[0m \u001b[1;32mand\u001b[0m \u001b[1;32mnot\u001b[0m \u001b[0mself\u001b[0m\u001b[1;33m.\u001b[0m\u001b[0mhasnans\u001b[0m\u001b[1;33m:\u001b[0m\u001b[1;33m\u001b[0m\u001b[1;33m\u001b[0m\u001b[0m\n",
      "\u001b[1;31mKeyError\u001b[0m: '0       2004.0\\n1       2000.0\\n2       2001.0\\n3       2007.0\\n4       2002.0\\n         ...  \\n1989    1958.0\\n1990    1958.0\\n1991    1959.0\\n1992    1959.0\\n1993    1959.0\\nName: Year, Length: 1982, dtype: float64'"
     ]
    }
   ],
   "source": [
    "removeout(music['Year'],1959.439677,251.024147)"
   ]
  },
  {
   "cell_type": "code",
   "execution_count": null,
   "id": "cd3f247a",
   "metadata": {},
   "outputs": [],
   "source": []
  }
 ],
 "metadata": {
  "kernelspec": {
   "display_name": "Python 3 (ipykernel)",
   "language": "python",
   "name": "python3"
  },
  "language_info": {
   "codemirror_mode": {
    "name": "ipython",
    "version": 3
   },
   "file_extension": ".py",
   "mimetype": "text/x-python",
   "name": "python",
   "nbconvert_exporter": "python",
   "pygments_lexer": "ipython3",
   "version": "3.9.7"
  }
 },
 "nbformat": 4,
 "nbformat_minor": 5
}
